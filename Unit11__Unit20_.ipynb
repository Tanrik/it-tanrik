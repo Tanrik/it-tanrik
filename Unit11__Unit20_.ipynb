{
  "nbformat": 4,
  "nbformat_minor": 0,
  "metadata": {
    "colab": {
      "name": "Unit11.~Unit20.",
      "provenance": [],
      "collapsed_sections": []
    },
    "kernelspec": {
      "name": "python3",
      "display_name": "Python 3"
    },
    "language_info": {
      "name": "python"
    }
  },
  "cells": [
    {
      "cell_type": "code",
      "execution_count": null,
      "metadata": {
        "colab": {
          "base_uri": "https://localhost:8080/"
        },
        "id": "uEfU3fokrE_6",
        "outputId": "891a7ace-9d43-472a-e1d5-82e2ab097fe5"
      },
      "outputs": [
        {
          "output_type": "stream",
          "name": "stdout",
          "text": [
            "[True, True]\n"
          ]
        }
      ],
      "source": [
        "a=[1,2,3,4,5]\n",
        "b=[0,0]\n",
        "\n",
        "b[0]= 1 in a\n",
        "b[1]= 6 not in a\n",
        "\n",
        "print(b)"
      ]
    },
    {
      "cell_type": "code",
      "source": [
        "a=[1,2,3,4,5]\n",
        "b=[9,8,7,6]\n",
        "\n",
        "a+b"
      ],
      "metadata": {
        "colab": {
          "base_uri": "https://localhost:8080/"
        },
        "id": "yTIBEfxCsFTH",
        "outputId": "213eccab-2ea3-42eb-8907-573591354b3c"
      },
      "execution_count": null,
      "outputs": [
        {
          "output_type": "execute_result",
          "data": {
            "text/plain": [
              "[1, 2, 3, 4, 5, 9, 8, 7, 6]"
            ]
          },
          "metadata": {},
          "execution_count": 6
        }
      ]
    },
    {
      "cell_type": "code",
      "source": [
        "list(range(0,10))+list(range(10,20))\n",
        "# +와 range를 사용할때는 range혼자 쓸 수 없고 list또는 tauple를 사용해야 한다 *도 마찬가지"
      ],
      "metadata": {
        "colab": {
          "base_uri": "https://localhost:8080/"
        },
        "id": "5ogAdKuZsuR3",
        "outputId": "db16e0aa-26a9-44dd-c558-6c4fdbabc32e"
      },
      "execution_count": null,
      "outputs": [
        {
          "output_type": "execute_result",
          "data": {
            "text/plain": [
              "[0, 1, 2, 3, 4, 5, 6, 7, 8, 9, 10, 11, 12, 13, 14, 15, 16, 17, 18, 19]"
            ]
          },
          "metadata": {},
          "execution_count": 7
        }
      ]
    },
    {
      "cell_type": "markdown",
      "source": [
        "문자열+문자열 은 문제가 없다. 문자열*수 도 문제 없다."
      ],
      "metadata": {
        "id": "0dusxFfhtq4k"
      }
    },
    {
      "cell_type": "code",
      "source": [
        "a=[0]*5\n",
        "a[0]=1\n",
        "a"
      ],
      "metadata": {
        "colab": {
          "base_uri": "https://localhost:8080/"
        },
        "id": "1ipu13ROtyEP",
        "outputId": "7f428b81-6dc3-4c20-866e-8200f4d4b49a"
      },
      "execution_count": null,
      "outputs": [
        {
          "output_type": "execute_result",
          "data": {
            "text/plain": [
              "[1, 0, 0, 0, 0]"
            ]
          },
          "metadata": {},
          "execution_count": 9
        }
      ]
    },
    {
      "cell_type": "code",
      "source": [
        "a=[0]*10\n",
        "len(a)"
      ],
      "metadata": {
        "colab": {
          "base_uri": "https://localhost:8080/"
        },
        "id": "oEjZR5FvuB9x",
        "outputId": "7b014552-4938-40a0-8d21-80bb6ed880a6"
      },
      "execution_count": null,
      "outputs": [
        {
          "output_type": "execute_result",
          "data": {
            "text/plain": [
              "10"
            ]
          },
          "metadata": {},
          "execution_count": 11
        }
      ]
    },
    {
      "cell_type": "code",
      "source": [
        "len(range(0,10,5))"
      ],
      "metadata": {
        "colab": {
          "base_uri": "https://localhost:8080/"
        },
        "id": "hCoc9EZouyw5",
        "outputId": "066ed505-4d81-491f-fb99-131e21dec79b"
      },
      "execution_count": null,
      "outputs": [
        {
          "output_type": "execute_result",
          "data": {
            "text/plain": [
              "2"
            ]
          },
          "metadata": {},
          "execution_count": 12
        }
      ]
    },
    {
      "cell_type": "code",
      "source": [
        "len('동해물과 백두산이')\n",
        "#공백도 포함"
      ],
      "metadata": {
        "colab": {
          "base_uri": "https://localhost:8080/"
        },
        "id": "1A0hnkJLvIct",
        "outputId": "c99f7e58-f759-4644-c353-e2c9756873c7"
      },
      "execution_count": null,
      "outputs": [
        {
          "output_type": "execute_result",
          "data": {
            "text/plain": [
              "9"
            ]
          },
          "metadata": {},
          "execution_count": 14
        }
      ]
    },
    {
      "cell_type": "code",
      "source": [
        "a=[0]*10\n",
        "a[9]=39\n",
        "a[len(a)-1]\n",
        "#()인 tuple은 사용 불가 값 수정 불가하기에 인덱스를 수정하지 않는 경우 사용가능"
      ],
      "metadata": {
        "colab": {
          "base_uri": "https://localhost:8080/"
        },
        "id": "NiQoTh2XvUfz",
        "outputId": "818ed8d6-aa39-4e1f-a204-60923bd4f0e2"
      },
      "execution_count": null,
      "outputs": [
        {
          "output_type": "execute_result",
          "data": {
            "text/plain": [
              "39"
            ]
          },
          "metadata": {},
          "execution_count": 15
        }
      ]
    },
    {
      "cell_type": "code",
      "source": [
        "a=[1,2,3,4]\n",
        "del a[2]\n",
        "a"
      ],
      "metadata": {
        "colab": {
          "base_uri": "https://localhost:8080/"
        },
        "id": "-ebAjscswP1g",
        "outputId": "fe13d789-02f2-43b8-c916-8b9cafa303df"
      },
      "execution_count": null,
      "outputs": [
        {
          "output_type": "execute_result",
          "data": {
            "text/plain": [
              "[1, 2, 4]"
            ]
          },
          "metadata": {},
          "execution_count": 16
        }
      ]
    },
    {
      "cell_type": "code",
      "source": [
        "a=[0,1,2,3,4,5,6,7,8,9]\n",
        "a[2:8:2] \n",
        "#a[2:-2:2]"
      ],
      "metadata": {
        "colab": {
          "base_uri": "https://localhost:8080/"
        },
        "id": "gRDMY8gww56p",
        "outputId": "261853ae-424d-4f38-c385-8ae8ceacf05b"
      },
      "execution_count": null,
      "outputs": [
        {
          "output_type": "execute_result",
          "data": {
            "text/plain": [
              "[2, 4, 6]"
            ]
          },
          "metadata": {},
          "execution_count": 21
        }
      ]
    },
    {
      "cell_type": "code",
      "source": [
        "a=list(range(0,10))\n",
        "b=[0]*7\n",
        "b[0]=a[:6]\n",
        "b[1]=a[6:]\n",
        "b[2]=a[:6:2]\n",
        "b[3]=a[6::2]\n",
        "b[4]=a[::2]\n",
        "b[5]=a[:]\n",
        "b[6]=a[0:len(a)]\n",
        "\n",
        "b"
      ],
      "metadata": {
        "colab": {
          "base_uri": "https://localhost:8080/"
        },
        "id": "u_YIwxMsy-sr",
        "outputId": "3eb33b00-4cbf-4de7-8d79-a3801efc2911"
      },
      "execution_count": null,
      "outputs": [
        {
          "output_type": "execute_result",
          "data": {
            "text/plain": [
              "[[0, 1, 2, 3, 4, 5],\n",
              " [6, 7, 8, 9],\n",
              " [0, 2, 4],\n",
              " [6, 8],\n",
              " [0, 2, 4, 6, 8],\n",
              " [0, 1, 2, 3, 4, 5, 6, 7, 8, 9],\n",
              " [0, 1, 2, 3, 4, 5, 6, 7, 8, 9]]"
            ]
          },
          "metadata": {},
          "execution_count": 26
        }
      ]
    },
    {
      "cell_type": "code",
      "source": [
        "a=list(range(0,10))\n",
        "\n",
        "a[2:5]=['a']\n",
        "a"
      ],
      "metadata": {
        "id": "ZhhkXTop0wfW",
        "colab": {
          "base_uri": "https://localhost:8080/"
        },
        "outputId": "50091a37-8257-47b1-ba25-36518cc2ab6c"
      },
      "execution_count": null,
      "outputs": [
        {
          "output_type": "execute_result",
          "data": {
            "text/plain": [
              "[0, 1, 'a', 5, 6, 7, 8, 9]"
            ]
          },
          "metadata": {},
          "execution_count": 25
        }
      ]
    },
    {
      "cell_type": "code",
      "source": [
        "a=list(range(0,10))\n",
        "\n",
        "a[2:5]=['a','b','c']\n",
        "a"
      ],
      "metadata": {
        "colab": {
          "base_uri": "https://localhost:8080/"
        },
        "id": "ghiHPas-0UZj",
        "outputId": "fea42571-15fd-47f6-9086-6eda669d2341"
      },
      "execution_count": null,
      "outputs": [
        {
          "output_type": "execute_result",
          "data": {
            "text/plain": [
              "[0, 1, 'a', 'b', 'c', 5, 6, 7, 8, 9]"
            ]
          },
          "metadata": {},
          "execution_count": 27
        }
      ]
    },
    {
      "cell_type": "code",
      "source": [
        "a=list(range(0,10))\n",
        "\n",
        "a[2:5]=['a','b','c','d','e']\n",
        "a"
      ],
      "metadata": {
        "colab": {
          "base_uri": "https://localhost:8080/"
        },
        "id": "3lnpFZ0k3uao",
        "outputId": "f2763e3f-5677-4e80-87f7-ec744bdecd05"
      },
      "execution_count": null,
      "outputs": [
        {
          "output_type": "execute_result",
          "data": {
            "text/plain": [
              "[0, 1, 'a', 'b', 'c', 'd', 'e', 5, 6, 7, 8, 9]"
            ]
          },
          "metadata": {},
          "execution_count": 28
        }
      ]
    },
    {
      "cell_type": "code",
      "source": [
        "a=list(range(0,10))\n",
        "\n",
        "a[2:8:2]=['a','b','c'] # 위와 다르게 증가 폭이 있을 경우에는 대신 들어갈 문자열 숫자와 원래 있었던 숫자의 개수와 동일해야 오류가 없다.\n",
        "a"
      ],
      "metadata": {
        "colab": {
          "base_uri": "https://localhost:8080/"
        },
        "id": "EmbN8kpl31oq",
        "outputId": "bd6d5b71-6d53-4f3b-c93c-0750385e8bf3"
      },
      "execution_count": null,
      "outputs": [
        {
          "output_type": "execute_result",
          "data": {
            "text/plain": [
              "[0, 1, 'a', 3, 'b', 5, 'c', 7, 8, 9]"
            ]
          },
          "metadata": {},
          "execution_count": 29
        }
      ]
    },
    {
      "cell_type": "code",
      "source": [
        "n = -32, 75, 97, -10, 9, 32, 4, -15, 0, 76, 14, 2\n",
        "print(n[1::2])"
      ],
      "metadata": {
        "colab": {
          "base_uri": "https://localhost:8080/"
        },
        "id": "GlrdPaGb38WZ",
        "outputId": "62424ea8-96cb-431a-a08d-716213f7b753"
      },
      "execution_count": null,
      "outputs": [
        {
          "output_type": "stream",
          "name": "stdout",
          "text": [
            "(75, -10, 32, -15, 76, 2)\n"
          ]
        }
      ]
    },
    {
      "cell_type": "code",
      "source": [
        "x=input().split()\n",
        "del x[-5:]\n",
        "print(tuple(x))"
      ],
      "metadata": {
        "colab": {
          "base_uri": "https://localhost:8080/"
        },
        "id": "HrmY1BMb52BX",
        "outputId": "8da357d5-c694-4402-9ef1-147095bbecc4"
      },
      "execution_count": null,
      "outputs": [
        {
          "output_type": "stream",
          "name": "stdout",
          "text": [
            "1 2 3 4 5 6 7 8 9 10 11 12\n",
            "('1', '2', '3', '4', '5', '6', '7')\n"
          ]
        }
      ]
    },
    {
      "cell_type": "code",
      "source": [
        "a, b=input().split()\n",
        "print(a[1::2]+b[::2])\n"
      ],
      "metadata": {
        "colab": {
          "base_uri": "https://localhost:8080/"
        },
        "id": "rF-JxAyN7p61",
        "outputId": "131a9042-4ef2-4482-929a-4232e26a6c93"
      },
      "execution_count": null,
      "outputs": [
        {
          "output_type": "stream",
          "name": "stdout",
          "text": [
            "python python\n",
            "yhnpto\n"
          ]
        }
      ]
    },
    {
      "cell_type": "code",
      "source": [
        "a=input().split()\n",
        "b=input().split()\n",
        "print(a[1::2]+b[::2])"
      ],
      "metadata": {
        "colab": {
          "base_uri": "https://localhost:8080/"
        },
        "id": "LKvIUpOl_Ha4",
        "outputId": "6d54bfea-39ef-4ccf-a463-dc917dabf1cc"
      },
      "execution_count": null,
      "outputs": [
        {
          "output_type": "stream",
          "name": "stdout",
          "text": [
            "python\n",
            "python\n",
            "['python']\n"
          ]
        }
      ]
    },
    {
      "cell_type": "code",
      "source": [
        "lux1 = dict(health=490, mana=334, melee=550, armor=18.72)    \n",
        "lux1"
      ],
      "metadata": {
        "colab": {
          "base_uri": "https://localhost:8080/"
        },
        "id": "zPT6giRG-ylr",
        "outputId": "b1749f61-b3da-4c85-d838-ab832c522d46"
      },
      "execution_count": null,
      "outputs": [
        {
          "output_type": "execute_result",
          "data": {
            "text/plain": [
              "{'armor': 18.72, 'health': 490, 'mana': 334, 'melee': 550}"
            ]
          },
          "metadata": {},
          "execution_count": 1
        }
      ]
    },
    {
      "cell_type": "code",
      "source": [
        "lux2 = dict(zip(['health', 'mana', 'melee', 'armor'], [490, 334, 550, 18.72]))    \n",
        "lux2 "
      ],
      "metadata": {
        "colab": {
          "base_uri": "https://localhost:8080/"
        },
        "id": "K1FPKfpK3ETg",
        "outputId": "82f097f0-2631-4e54-ad2e-5f3bb4f4a272"
      },
      "execution_count": null,
      "outputs": [
        {
          "output_type": "execute_result",
          "data": {
            "text/plain": [
              "{'armor': 18.72, 'health': 490, 'mana': 334, 'melee': 550}"
            ]
          },
          "metadata": {},
          "execution_count": 2
        }
      ]
    },
    {
      "cell_type": "code",
      "source": [
        "lux = {'health': 490, 'mana': 334, 'melee': 550, 'armor': 18.72}\n",
        "lux['health']"
      ],
      "metadata": {
        "colab": {
          "base_uri": "https://localhost:8080/"
        },
        "id": "UTmN5fd-3N9u",
        "outputId": "39c6be7e-d7e4-4a09-bd88-a6595ffe96f4"
      },
      "execution_count": null,
      "outputs": [
        {
          "output_type": "execute_result",
          "data": {
            "text/plain": [
              "490"
            ]
          },
          "metadata": {},
          "execution_count": 3
        }
      ]
    },
    {
      "cell_type": "code",
      "source": [
        "lux = {'health': 490, 'mana': 334, 'melee': 550, 'armor': 18.72}\n",
        "lux['health'] = 2037\n",
        "lux"
      ],
      "metadata": {
        "colab": {
          "base_uri": "https://localhost:8080/"
        },
        "id": "tNsWyiaB3d7P",
        "outputId": "8fcb58b3-f061-422a-dd20-b1e285f5b5eb"
      },
      "execution_count": null,
      "outputs": [
        {
          "output_type": "execute_result",
          "data": {
            "text/plain": [
              "{'armor': 18.72, 'health': 2037, 'mana': 334, 'melee': 550}"
            ]
          },
          "metadata": {},
          "execution_count": 4
        }
      ]
    },
    {
      "cell_type": "code",
      "source": [
        "lux['mana_regen'] = 3.28    # 키 'mana_regen'을 추가하고 값 3.28 할당\n",
        "lux"
      ],
      "metadata": {
        "colab": {
          "base_uri": "https://localhost:8080/"
        },
        "id": "JyXTJ6Od3_zi",
        "outputId": "1052c64a-8148-40a9-f566-b407560b8410"
      },
      "execution_count": null,
      "outputs": [
        {
          "output_type": "execute_result",
          "data": {
            "text/plain": [
              "{'armor': 18.72, 'health': 2037, 'mana': 334, 'mana_regen': 3.28, 'melee': 550}"
            ]
          },
          "metadata": {},
          "execution_count": 5
        }
      ]
    },
    {
      "cell_type": "code",
      "source": [
        "lux = {'health': 490, 'mana': 334, 'melee': 550, 'armor': 18.72}\n",
        "len(lux)"
      ],
      "metadata": {
        "colab": {
          "base_uri": "https://localhost:8080/"
        },
        "id": "8JKMuA374Kj8",
        "outputId": "9b53134d-9295-44e2-da29-4c064e7efa89"
      },
      "execution_count": null,
      "outputs": [
        {
          "output_type": "execute_result",
          "data": {
            "text/plain": [
              "4"
            ]
          },
          "metadata": {},
          "execution_count": 6
        }
      ]
    },
    {
      "cell_type": "code",
      "source": [
        " a= input().split()"
      ],
      "metadata": {
        "colab": {
          "base_uri": "https://localhost:8080/"
        },
        "id": "biXR4S457HT8",
        "outputId": "d6473200-c756-4314-e7e0-bd324a89b1d7"
      },
      "execution_count": null,
      "outputs": [
        {
          "name": "stdout",
          "output_type": "stream",
          "text": [
            "health health_regen mana mana_regen\n"
          ]
        }
      ]
    },
    {
      "cell_type": "code",
      "source": [
        "x = 5          # x에 5를 할당\n",
        " \n",
        "if x == 10:    # x가 5라서 조건식을 만족하지 않음\n",
        "     print('x에 들어있는 숫자는')\n",
        "print ('10입니다.')"
      ],
      "metadata": {
        "colab": {
          "base_uri": "https://localhost:8080/"
        },
        "id": "raJda6aB8ONa",
        "outputId": "8a754cd5-e16a-4723-ac92-e0ee95abb8d3"
      },
      "execution_count": null,
      "outputs": [
        {
          "output_type": "stream",
          "name": "stdout",
          "text": [
            "10입니다.\n"
          ]
        }
      ]
    },
    {
      "cell_type": "code",
      "source": [
        "x = 15\n",
        " \n",
        "if x >= 10:\n",
        "     print('10 이상입니다.')\n",
        " \n",
        "     if x == 15:\n",
        "         print('15입니다.')\n",
        " \n",
        "     if x == 20:\n",
        "         print('20입니다.')"
      ],
      "metadata": {
        "colab": {
          "base_uri": "https://localhost:8080/"
        },
        "id": "o5biE9oB_ta6",
        "outputId": "6a22953c-17f1-4f23-b04c-c07c248014f5"
      },
      "execution_count": null,
      "outputs": [
        {
          "output_type": "stream",
          "name": "stdout",
          "text": [
            "10 이상입니다.\n",
            "15입니다.\n"
          ]
        }
      ]
    },
    {
      "cell_type": "code",
      "source": [
        "x = int(input())          # 입력받은 값을 변수에 저장\n",
        " \n",
        "if x == 10:               # x가 10이면\n",
        "    print('10입니다.')    # '10입니다.'를 출력\n",
        " \n",
        "if x == 20:               # x가 20이면\n",
        "    print('20입니다.')    # '20입니다.'를 출력"
      ],
      "metadata": {
        "id": "56DhrtGDAaTI"
      },
      "execution_count": null,
      "outputs": []
    },
    {
      "cell_type": "code",
      "source": [
        "if x == 10:\n",
        "    print('10입니다.') \n",
        "else:\n",
        "    print('x에 들어있는 숫자는')\n",
        "    print('10이 아닙니다.')"
      ],
      "metadata": {
        "id": "tBNBiLPgByCI"
      },
      "execution_count": null,
      "outputs": []
    },
    {
      "cell_type": "code",
      "source": [
        "button = int(input())\n",
        " \n",
        "if button == 1:\n",
        "    print('콜라')\n",
        "elif button == 2:\n",
        "    print('사이다')\n",
        "elif button == 3:\n",
        "    print('환타')\n",
        "else:\n",
        "    print('제공하지 않는 메뉴')"
      ],
      "metadata": {
        "id": "zzmcc181CY3Z"
      },
      "execution_count": null,
      "outputs": []
    },
    {
      "cell_type": "code",
      "source": [
        " for i in reversed(range(10)):    # range에 reversed를 사용하여 숫자의 순서를 반대로 뒤집음\n",
        "     print('Hello, world!', i)"
      ],
      "metadata": {
        "id": "D2xRYdM6DJel"
      },
      "execution_count": null,
      "outputs": []
    },
    {
      "cell_type": "code",
      "source": [
        "count = int(input('반복할 횟수를 입력하세요: '))\n",
        " \n",
        "while count > 0:     # count가 0보다 클 때 반복\n",
        "    print('Hello, world!', count)\n",
        "    count -= 1"
      ],
      "metadata": {
        "colab": {
          "base_uri": "https://localhost:8080/"
        },
        "id": "S1sbkGNScGhA",
        "outputId": "4639d402-2048-431f-d93b-bdba1d3fc7a0"
      },
      "execution_count": null,
      "outputs": [
        {
          "output_type": "stream",
          "name": "stdout",
          "text": [
            "반복할 횟수를 입력하세요: 10\n",
            "Hello, world! 10\n",
            "Hello, world! 9\n",
            "Hello, world! 8\n",
            "Hello, world! 7\n",
            "Hello, world! 6\n",
            "Hello, world! 5\n",
            "Hello, world! 4\n",
            "Hello, world! 3\n",
            "Hello, world! 2\n",
            "Hello, world! 1\n"
          ]
        }
      ]
    },
    {
      "cell_type": "code",
      "source": [
        "import random    # random 모듈을 가져옴\n",
        " \n",
        "i = 0\n",
        "while i != 3:    # 3이 아닐 때 계속 반복\n",
        "    i = random.randint(1, 6)    # randint를 사용하여 1과 6 사이의 난수를 생성\n",
        "    print(i)"
      ],
      "metadata": {
        "colab": {
          "base_uri": "https://localhost:8080/"
        },
        "id": "y-4zzJ37g6E9",
        "outputId": "498d6ffd-6c16-496f-f62e-b9c1adf5ab5a"
      },
      "execution_count": null,
      "outputs": [
        {
          "output_type": "stream",
          "name": "stdout",
          "text": [
            "4\n",
            "2\n",
            "2\n",
            "2\n",
            "6\n",
            "3\n"
          ]
        }
      ]
    },
    {
      "cell_type": "code",
      "source": [
        "a=list(range(1,100))\n",
        "a[::3] \n",
        "a"
      ],
      "metadata": {
        "colab": {
          "base_uri": "https://localhost:8080/"
        },
        "id": "b75okqpxvrAM",
        "outputId": "6e617a23-e83a-479a-b353-2ad72f97fe67"
      },
      "execution_count": null,
      "outputs": [
        {
          "output_type": "execute_result",
          "data": {
            "text/plain": [
              "[1,\n",
              " 2,\n",
              " 3,\n",
              " 4,\n",
              " 5,\n",
              " 6,\n",
              " 7,\n",
              " 8,\n",
              " 9,\n",
              " 10,\n",
              " 11,\n",
              " 12,\n",
              " 13,\n",
              " 14,\n",
              " 15,\n",
              " 16,\n",
              " 17,\n",
              " 18,\n",
              " 19,\n",
              " 20,\n",
              " 21,\n",
              " 22,\n",
              " 23,\n",
              " 24,\n",
              " 25,\n",
              " 26,\n",
              " 27,\n",
              " 28,\n",
              " 29,\n",
              " 30,\n",
              " 31,\n",
              " 32,\n",
              " 33,\n",
              " 34,\n",
              " 35,\n",
              " 36,\n",
              " 37,\n",
              " 38,\n",
              " 39,\n",
              " 40,\n",
              " 41,\n",
              " 42,\n",
              " 43,\n",
              " 44,\n",
              " 45,\n",
              " 46,\n",
              " 47,\n",
              " 48,\n",
              " 49,\n",
              " 50,\n",
              " 51,\n",
              " 52,\n",
              " 53,\n",
              " 54,\n",
              " 55,\n",
              " 56,\n",
              " 57,\n",
              " 58,\n",
              " 59,\n",
              " 60,\n",
              " 61,\n",
              " 62,\n",
              " 63,\n",
              " 64,\n",
              " 65,\n",
              " 66,\n",
              " 67,\n",
              " 68,\n",
              " 69,\n",
              " 70,\n",
              " 71,\n",
              " 72,\n",
              " 73,\n",
              " 74,\n",
              " 75,\n",
              " 76,\n",
              " 77,\n",
              " 78,\n",
              " 79,\n",
              " 80,\n",
              " 81,\n",
              " 82,\n",
              " 83,\n",
              " 84,\n",
              " 85,\n",
              " 86,\n",
              " 87,\n",
              " 88,\n",
              " 89,\n",
              " 90,\n",
              " 91,\n",
              " 92,\n",
              " 93,\n",
              " 94,\n",
              " 95,\n",
              " 96,\n",
              " 97,\n",
              " 98,\n",
              " 99]"
            ]
          },
          "metadata": {},
          "execution_count": 16
        }
      ]
    },
    {
      "cell_type": "code",
      "source": [
        "a=list(range(1,10))\n",
        "a[2:10:2]=['짝','짝','짝','짝']\n",
        "a"
      ],
      "metadata": {
        "colab": {
          "base_uri": "https://localhost:8080/"
        },
        "id": "irFjEI-91bkK",
        "outputId": "3c6937f7-85ba-4fb0-f8d3-0b694b5ae744"
      },
      "execution_count": null,
      "outputs": [
        {
          "output_type": "execute_result",
          "data": {
            "text/plain": [
              "[1, 2, '짝', 4, '짝', 6, '짝', 8, '짝']"
            ]
          },
          "metadata": {},
          "execution_count": 46
        }
      ]
    },
    {
      "cell_type": "code",
      "source": [
        "\n",
        "a=[0,1,2,3,4,5,6,7,8,9,10]\n",
        "a[2:10:2]\n",
        "a"
      ],
      "metadata": {
        "colab": {
          "base_uri": "https://localhost:8080/"
        },
        "id": "S1zvfbFY0AEj",
        "outputId": "7637be44-e757-4ddc-cae9-4a1d58ab99a2"
      },
      "execution_count": null,
      "outputs": [
        {
          "output_type": "execute_result",
          "data": {
            "text/plain": [
              "[0, 1, 2, 3, 4, 5, 6, 7, 8, 9, 10]"
            ]
          },
          "metadata": {},
          "execution_count": 35
        }
      ]
    },
    {
      "cell_type": "code",
      "source": [
        "print(list(range(1,11)),list(range(11,21)),list(range(21,31)),list(range(31,41)),list(range(41,51)),list(range(51,61)),list(range(61,71)),list(range(71,81)),list(range(81,91)),list(range(91,101)), sep='\\n')"
      ],
      "metadata": {
        "colab": {
          "base_uri": "https://localhost:8080/"
        },
        "id": "6LAjuM7xxizT",
        "outputId": "a4594c2c-d126-49dd-ff32-2edcf73ab987"
      },
      "execution_count": null,
      "outputs": [
        {
          "output_type": "stream",
          "name": "stdout",
          "text": [
            "[1, 2, 3, 4, 5, 6, 7, 8, 9, 10]\n",
            "[11, 12, 13, 14, 15, 16, 17, 18, 19, 20]\n",
            "[21, 22, 23, 24, 25, 26, 27, 28, 29, 30]\n",
            "[31, 32, 33, 34, 35, 36, 37, 38, 39, 40]\n",
            "[41, 42, 43, 44, 45, 46, 47, 48, 49, 50]\n",
            "[51, 52, 53, 54, 55, 56, 57, 58, 59, 60]\n",
            "[61, 62, 63, 64, 65, 66, 67, 68, 69, 70]\n",
            "[71, 72, 73, 74, 75, 76, 77, 78, 79, 80]\n",
            "[81, 82, 83, 84, 85, 86, 87, 88, 89, 90]\n",
            "[91, 92, 93, 94, 95, 96, 97, 98, 99, 100]\n"
          ]
        }
      ]
    },
    {
      "cell_type": "code",
      "source": [
        " for i in reversed(range(0,100,3)):    # range에 reversed를 사용하여 숫자의 순서를 반대로 뒤집음\n",
        "...     print('Hello, world!', i)"
      ],
      "metadata": {
        "colab": {
          "base_uri": "https://localhost:8080/"
        },
        "id": "uvkxstVKABMk",
        "outputId": "4288d3e9-fdda-4ed2-a37a-1538383d5864"
      },
      "execution_count": null,
      "outputs": [
        {
          "output_type": "stream",
          "name": "stdout",
          "text": [
            "Hello, world! 99\n",
            "Hello, world! 96\n",
            "Hello, world! 93\n",
            "Hello, world! 90\n",
            "Hello, world! 87\n",
            "Hello, world! 84\n",
            "Hello, world! 81\n",
            "Hello, world! 78\n",
            "Hello, world! 75\n",
            "Hello, world! 72\n",
            "Hello, world! 69\n",
            "Hello, world! 66\n",
            "Hello, world! 63\n",
            "Hello, world! 60\n",
            "Hello, world! 57\n",
            "Hello, world! 54\n",
            "Hello, world! 51\n",
            "Hello, world! 48\n",
            "Hello, world! 45\n",
            "Hello, world! 42\n",
            "Hello, world! 39\n",
            "Hello, world! 36\n",
            "Hello, world! 33\n",
            "Hello, world! 30\n",
            "Hello, world! 27\n",
            "Hello, world! 24\n",
            "Hello, world! 21\n",
            "Hello, world! 18\n",
            "Hello, world! 15\n",
            "Hello, world! 12\n",
            "Hello, world! 9\n",
            "Hello, world! 6\n",
            "Hello, world! 3\n",
            "Hello, world! 0\n"
          ]
        }
      ]
    },
    {
      "cell_type": "code",
      "source": [
        "def claps(number):\n",
        "    num_str = str(number)\n",
        "    count_claps = 0\n",
        "    count_claps += num_str.count('3')\n",
        "    count_claps += num_str.count('6')\n",
        "    count_claps += num_str.count('9')\n",
        "    return count_claps\n",
        "\n",
        "for number in range(1, 101):\n",
        "    ending = '\\t'\n",
        "    n = claps(number)\n",
        "    if number % 3 == 0:\n",
        "        ending = '\\n'\n",
        "    if n == 0:\n",
        "        print(number, end=ending)\n",
        "    else:\n",
        "        print(n * '짝', end=ending)"
      ],
      "metadata": {
        "colab": {
          "base_uri": "https://localhost:8080/"
        },
        "id": "SxMwJRLzDA8i",
        "outputId": "e3b312ab-dd18-4371-eb7c-c2c340246234"
      },
      "execution_count": null,
      "outputs": [
        {
          "output_type": "stream",
          "name": "stdout",
          "text": [
            "1\t2\t짝\n",
            "4\t5\t짝\n",
            "7\t8\t짝\n",
            "10\t11\t12\n",
            "짝\t14\t15\n",
            "짝\t17\t18\n",
            "짝\t20\t21\n",
            "22\t짝\t24\n",
            "25\t짝\t27\n",
            "28\t짝\t짝\n",
            "짝\t짝\t짝짝\n",
            "짝\t짝\t짝짝\n",
            "짝\t짝\t짝짝\n",
            "40\t41\t42\n",
            "짝\t44\t45\n",
            "짝\t47\t48\n",
            "짝\t50\t51\n",
            "52\t짝\t54\n",
            "55\t짝\t57\n",
            "58\t짝\t짝\n",
            "짝\t짝\t짝짝\n",
            "짝\t짝\t짝짝\n",
            "짝\t짝\t짝짝\n",
            "70\t71\t72\n",
            "짝\t74\t75\n",
            "짝\t77\t78\n",
            "짝\t80\t81\n",
            "82\t짝\t84\n",
            "85\t짝\t87\n",
            "88\t짝\t짝\n",
            "짝\t짝\t짝짝\n",
            "짝\t짝\t짝짝\n",
            "짝\t짝\t짝짝\n",
            "100\t"
          ]
        }
      ]
    },
    {
      "cell_type": "code",
      "source": [
        "a = int(input())\n",
        "b=0\n",
        "i=1\n",
        "while b <= 100:\n",
        "  print(a*i)\n",
        "  i += 1\n",
        "  b = a*i"
      ],
      "metadata": {
        "id": "YRarUcgIDTOo"
      },
      "execution_count": null,
      "outputs": []
    },
    {
      "cell_type": "code",
      "source": [
        "1*'WKWr'"
      ],
      "metadata": {
        "colab": {
          "base_uri": "https://localhost:8080/",
          "height": 36
        },
        "id": "qY_6MlqtHWpW",
        "outputId": "a8fdc0ff-c9f6-4adf-f370-bd30b3750160"
      },
      "execution_count": null,
      "outputs": [
        {
          "output_type": "execute_result",
          "data": {
            "text/plain": [
              "'짝'"
            ],
            "application/vnd.google.colaboratory.intrinsic+json": {
              "type": "string"
            }
          },
          "metadata": {},
          "execution_count": 100
        }
      ]
    },
    {
      "cell_type": "code",
      "source": [
        "for i in range(1,100):\n",
        "  i=str(i)\n",
        "  b=0\n",
        "  while b < 2:\n",
        "    a=0\n",
        "    b+=1\n",
        "    if '3' in i:\n",
        "     a += 1\n",
        "    if '6' in i:\n",
        "     a += 1\n",
        "    if '9' in i:\n",
        "     a += 1\n",
        "    else:\n",
        "      if a==0:\n",
        "        print(i)\n",
        "      else:\n",
        "        print(a*'짝')"
      ],
      "metadata": {
        "colab": {
          "base_uri": "https://localhost:8080/"
        },
        "id": "oOw7datSLnsX",
        "outputId": "437fe1ab-a780-4fbd-cc63-690ead289090"
      },
      "execution_count": null,
      "outputs": [
        {
          "output_type": "stream",
          "name": "stdout",
          "text": [
            "1\n",
            "1\n",
            "2\n",
            "2\n",
            "짝\n",
            "짝\n",
            "4\n",
            "4\n",
            "5\n",
            "5\n",
            "짝\n",
            "짝\n",
            "7\n",
            "7\n",
            "8\n",
            "8\n",
            "10\n",
            "10\n",
            "11\n",
            "11\n",
            "12\n",
            "12\n",
            "짝\n",
            "짝\n",
            "14\n",
            "14\n",
            "15\n",
            "15\n",
            "짝\n",
            "짝\n",
            "17\n",
            "17\n",
            "18\n",
            "18\n",
            "20\n",
            "20\n",
            "21\n",
            "21\n",
            "22\n",
            "22\n",
            "짝\n",
            "짝\n",
            "24\n",
            "24\n",
            "25\n",
            "25\n",
            "짝\n",
            "짝\n",
            "27\n",
            "27\n",
            "28\n",
            "28\n",
            "짝\n",
            "짝\n",
            "짝\n",
            "짝\n",
            "짝\n",
            "짝\n",
            "짝\n",
            "짝\n",
            "짝\n",
            "짝\n",
            "짝\n",
            "짝\n",
            "짝짝\n",
            "짝짝\n",
            "짝\n",
            "짝\n",
            "짝\n",
            "짝\n",
            "40\n",
            "40\n",
            "41\n",
            "41\n",
            "42\n",
            "42\n",
            "짝\n",
            "짝\n",
            "44\n",
            "44\n",
            "45\n",
            "45\n",
            "짝\n",
            "짝\n",
            "47\n",
            "47\n",
            "48\n",
            "48\n",
            "50\n",
            "50\n",
            "51\n",
            "51\n",
            "52\n",
            "52\n",
            "짝\n",
            "짝\n",
            "54\n",
            "54\n",
            "55\n",
            "55\n",
            "짝\n",
            "짝\n",
            "57\n",
            "57\n",
            "58\n",
            "58\n",
            "짝\n",
            "짝\n",
            "짝\n",
            "짝\n",
            "짝\n",
            "짝\n",
            "짝짝\n",
            "짝짝\n",
            "짝\n",
            "짝\n",
            "짝\n",
            "짝\n",
            "짝\n",
            "짝\n",
            "짝\n",
            "짝\n",
            "짝\n",
            "짝\n",
            "70\n",
            "70\n",
            "71\n",
            "71\n",
            "72\n",
            "72\n",
            "짝\n",
            "짝\n",
            "74\n",
            "74\n",
            "75\n",
            "75\n",
            "짝\n",
            "짝\n",
            "77\n",
            "77\n",
            "78\n",
            "78\n",
            "80\n",
            "80\n",
            "81\n",
            "81\n",
            "82\n",
            "82\n",
            "짝\n",
            "짝\n",
            "84\n",
            "84\n",
            "85\n",
            "85\n",
            "짝\n",
            "짝\n",
            "87\n",
            "87\n",
            "88\n",
            "88\n"
          ]
        }
      ]
    },
    {
      "cell_type": "code",
      "source": [
        "for i in range(1,100):\n",
        "  i=str(i)\n",
        "  b=1\n",
        "  while b < 2:\n",
        "    a=0\n",
        "    b+=1\n",
        "    if '3' in i:\n",
        "     a += 1\n",
        "    elif '6' in i:\n",
        "     a += 1\n",
        "    elif '9' in i:\n",
        "     a += 1\n",
        "    else:\n",
        "      if a==0:\n",
        "        print(i)\n",
        "      else:\n",
        "        print('짝', a)"
      ],
      "metadata": {
        "colab": {
          "base_uri": "https://localhost:8080/"
        },
        "id": "RudJ0Vp4MxpU",
        "outputId": "53567517-5aff-45ff-ed13-088c4d8cd934"
      },
      "execution_count": null,
      "outputs": [
        {
          "output_type": "stream",
          "name": "stdout",
          "text": [
            "1\n",
            "2\n",
            "4\n",
            "5\n",
            "7\n",
            "8\n",
            "10\n",
            "11\n",
            "12\n",
            "14\n",
            "15\n",
            "17\n",
            "18\n",
            "20\n",
            "21\n",
            "22\n",
            "24\n",
            "25\n",
            "27\n",
            "28\n",
            "40\n",
            "41\n",
            "42\n",
            "44\n",
            "45\n",
            "47\n",
            "48\n",
            "50\n",
            "51\n",
            "52\n",
            "54\n",
            "55\n",
            "57\n",
            "58\n",
            "70\n",
            "71\n",
            "72\n",
            "74\n",
            "75\n",
            "77\n",
            "78\n",
            "80\n",
            "81\n",
            "82\n",
            "84\n",
            "85\n",
            "87\n",
            "88\n"
          ]
        }
      ]
    },
    {
      "cell_type": "code",
      "source": [
        ""
      ],
      "metadata": {
        "id": "w29Dk9dWNM9J"
      },
      "execution_count": null,
      "outputs": []
    }
  ]
}