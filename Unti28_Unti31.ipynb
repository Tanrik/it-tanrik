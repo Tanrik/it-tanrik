{
  "nbformat": 4,
  "nbformat_minor": 0,
  "metadata": {
    "colab": {
      "name": "Unti28~Unti31",
      "provenance": []
    },
    "kernelspec": {
      "name": "python3",
      "display_name": "Python 3"
    },
    "language_info": {
      "name": "python"
    }
  },
  "cells": [
    {
      "cell_type": "code",
      "execution_count": 1,
      "metadata": {
        "id": "hfnVGIH3mAlS"
      },
      "outputs": [],
      "source": [
        "file=open('hello.txt', 'w')\n",
        "file.write('Hello, world!')\n",
        "file.close()"
      ]
    },
    {
      "cell_type": "code",
      "source": [
        "file=open('hello.txt', 'r')\n",
        "s=file.read()\n",
        "print(s)\n",
        "file.close()\n"
      ],
      "metadata": {
        "colab": {
          "base_uri": "https://localhost:8080/"
        },
        "id": "HKciMyyfmwVn",
        "outputId": "3572f2ec-ce35-44c1-e63f-b008e15f1b80"
      },
      "execution_count": 2,
      "outputs": [
        {
          "output_type": "stream",
          "name": "stdout",
          "text": [
            "Hello, world!\n"
          ]
        }
      ]
    },
    {
      "cell_type": "code",
      "source": [
        "with open('hello.txt','r') as file:\n",
        "    s=file.read()\n",
        "    print(s)"
      ],
      "metadata": {
        "colab": {
          "base_uri": "https://localhost:8080/"
        },
        "id": "cr9A30tbnnaY",
        "outputId": "6148ba45-d26d-44b0-9af3-3c876db7d17a"
      },
      "execution_count": 7,
      "outputs": [
        {
          "output_type": "stream",
          "name": "stdout",
          "text": [
            "Hello, world!\n"
          ]
        }
      ]
    },
    {
      "cell_type": "code",
      "source": [
        "lines = ['안녕하세요.\\n', '파이썬\\n', '코딩 도장입니다.\\n']\n",
        "with open('hello.txt','w') as file:\n",
        "    file.writelines(lines)\n",
        "with open('hello.txt','r') as file:\n",
        "    for line in file:\n",
        "        print(line.strip('\\n'))"
      ],
      "metadata": {
        "colab": {
          "base_uri": "https://localhost:8080/"
        },
        "id": "vyIzSo90oNZ3",
        "outputId": "2998c961-70ba-4db8-bc48-1ec0529006ee"
      },
      "execution_count": 9,
      "outputs": [
        {
          "output_type": "stream",
          "name": "stdout",
          "text": [
            "안녕하세요.\n",
            "파이썬\n",
            "코딩 도장입니다.\n"
          ]
        }
      ]
    },
    {
      "cell_type": "code",
      "source": [
        "import pickle\n",
        " \n",
        "name = 'james'\n",
        "age = 17\n",
        "address = '서울시 서초구 반포동'\n",
        "scores = {'korean': 90, 'english': 95, 'mathematics': 85, 'science': 82}\n",
        " \n",
        "with open('james.p', 'wb') as file:  \n",
        "    pickle.dump(name, file)\n",
        "    pickle.dump(age, file)\n",
        "    pickle.dump(address, file)\n",
        "    pickle.dump(scores, file)\n",
        "    \n",
        " \n",
        "with open('james.p', 'rb') as file:   \n",
        "    name = pickle.load(file)\n",
        "    age = pickle.load(file)\n",
        "    address = pickle.load(file)\n",
        "    scores = pickle.load(file)\n",
        "    print(name)\n",
        "    print(age)\n",
        "    print(address)\n",
        "    print(scores)"
      ],
      "metadata": {
        "colab": {
          "base_uri": "https://localhost:8080/"
        },
        "id": "BLXVuKF6sRhR",
        "outputId": "564f2dae-07ef-408e-bc20-4477329f5222"
      },
      "execution_count": 11,
      "outputs": [
        {
          "output_type": "stream",
          "name": "stdout",
          "text": [
            "james\n",
            "17\n",
            "서울시 서초구 반포동\n",
            "{'korean': 90, 'english': 95, 'mathematics': 85, 'science': 82}\n"
          ]
        }
      ]
    },
    {
      "cell_type": "code",
      "source": [
        "with open('words.txt', 'r') as file:\n",
        "  text = file.readline()\n",
        "  words=text.split()\n",
        "      print([word.strip(',.') for word in words if 'c' in word])"
      ],
      "metadata": {
        "id": "Hhb4TAkyy-t0"
      },
      "execution_count": null,
      "outputs": []
    },
    {
      "cell_type": "code",
      "source": [
        "a=input()\n",
        "b=True\n",
        "for i in range(len(a)//2):\n",
        "  if a[i] != a[-1-i]:\n",
        "    b=False\n",
        "    break\n",
        "print(b)"
      ],
      "metadata": {
        "colab": {
          "base_uri": "https://localhost:8080/"
        },
        "id": "-IxXfRst6L1G",
        "outputId": "4f0bac4b-dce3-454e-f467-9653de7f0352"
      },
      "execution_count": 44,
      "outputs": [
        {
          "output_type": "stream",
          "name": "stdout",
          "text": [
            "level\n",
            "True\n"
          ]
        }
      ]
    },
    {
      "cell_type": "code",
      "source": [
        "word = input()\n",
        " \n",
        "print(word == word[::-1])"
      ],
      "metadata": {
        "colab": {
          "base_uri": "https://localhost:8080/"
        },
        "id": "N1s0ZCrOAhAc",
        "outputId": "d2397df9-c9db-4f04-e32f-e0a81640db5e"
      },
      "execution_count": 45,
      "outputs": [
        {
          "output_type": "stream",
          "name": "stdout",
          "text": [
            "단어를 입력하세요: level\n",
            "True\n"
          ]
        }
      ]
    },
    {
      "cell_type": "code",
      "source": [
        "word = 'level'\n",
        "list(word) == list(reversed(word))"
      ],
      "metadata": {
        "colab": {
          "base_uri": "https://localhost:8080/"
        },
        "id": "yVYGmtyYBeX0",
        "outputId": "84723fbb-c916-43be-a42c-aadea891e8ec"
      },
      "execution_count": 46,
      "outputs": [
        {
          "output_type": "execute_result",
          "data": {
            "text/plain": [
              "True"
            ]
          },
          "metadata": {},
          "execution_count": 46
        }
      ]
    },
    {
      "cell_type": "code",
      "source": [
        " text = 'hello'\n",
        "list(zip(text, text[1:]))"
      ],
      "metadata": {
        "colab": {
          "base_uri": "https://localhost:8080/"
        },
        "id": "GHcqOZiiBsTl",
        "outputId": "5ee2d069-9f44-4d25-e728-2a0ff1143060"
      },
      "execution_count": 47,
      "outputs": [
        {
          "output_type": "execute_result",
          "data": {
            "text/plain": [
              "[('h', 'e'), ('e', 'l'), ('l', 'l'), ('l', 'o')]"
            ]
          },
          "metadata": {},
          "execution_count": 47
        }
      ]
    },
    {
      "cell_type": "code",
      "source": [
        "with open('words.txt','r') as f:\n",
        "   \n",
        "   \n",
        "    a=f.readline()  \n",
        "    a=a.split()\n",
        "\n",
        "for j in a:\n",
        "    for i in range(len(j)//2):\n",
        "        if j[i] == j[-1-i]:\n",
        "            print(j)"
      ],
      "metadata": {
        "colab": {
          "base_uri": "https://localhost:8080/"
        },
        "id": "XFzNRhLcEA0c",
        "outputId": "4ad3056f-1c52-4cce-856d-125d315e3d07"
      },
      "execution_count": 65,
      "outputs": [
        {
          "output_type": "stream",
          "name": "stdout",
          "text": [
            "that\n",
            "dressed\n"
          ]
        }
      ]
    },
    {
      "cell_type": "code",
      "source": [
        "with open('words.txt', 'r') as file:\n",
        "  a = None\n",
        "\n",
        "  while a != '':\n",
        "    a = file.readline().strip('\\n')\n",
        "    b = True\n",
        "    for i in range(len(a) // 2):\n",
        "      if a[i] != a[-1-i]:\n",
        "        b = False\n",
        "        break\n",
        "    if b:\n",
        "      print(word)"
      ],
      "metadata": {
        "colab": {
          "base_uri": "https://localhost:8080/"
        },
        "id": "2NfJL2okIabF",
        "outputId": "40fc2f6d-7cb1-4335-d5b6-18acb1eda1e2"
      },
      "execution_count": 67,
      "outputs": [
        {
          "output_type": "stream",
          "name": "stdout",
          "text": [
            "\n"
          ]
        }
      ]
    },
    {
      "cell_type": "code",
      "source": [
        "def hello():\n",
        "    print('Hello, world!')\n",
        " \n",
        "hello()"
      ],
      "metadata": {
        "colab": {
          "base_uri": "https://localhost:8080/"
        },
        "id": "02yHE86qJWnX",
        "outputId": "6abf708f-cb14-4a09-c397-e1577a00d81c"
      },
      "execution_count": 68,
      "outputs": [
        {
          "output_type": "stream",
          "name": "stdout",
          "text": [
            "Hello, world!\n"
          ]
        }
      ]
    },
    {
      "cell_type": "code",
      "source": [
        "def add(a, b):\n",
        "    print(a+b)\n",
        "add(10, 20)"
      ],
      "metadata": {
        "colab": {
          "base_uri": "https://localhost:8080/"
        },
        "id": "AsW4SADjX3v-",
        "outputId": "55fdf086-6734-40f2-e49f-033231cbbe7e"
      },
      "execution_count": 74,
      "outputs": [
        {
          "output_type": "stream",
          "name": "stdout",
          "text": [
            "30\n"
          ]
        }
      ]
    },
    {
      "cell_type": "code",
      "source": [
        "def add(a, b):\n",
        "    return a+b, a-b\n",
        "\n",
        "x= add(10, 30) #x,y = add_sub(10, 20) \n",
        "x"
      ],
      "metadata": {
        "colab": {
          "base_uri": "https://localhost:8080/"
        },
        "id": "oqOzUthLZ0Ys",
        "outputId": "7d006d79-51be-4e8c-dd76-771c53aad713"
      },
      "execution_count": 75,
      "outputs": [
        {
          "output_type": "execute_result",
          "data": {
            "text/plain": [
              "40"
            ]
          },
          "metadata": {},
          "execution_count": 75
        }
      ]
    },
    {
      "cell_type": "code",
      "source": [
        "def set():\n",
        "    return[1,2]\n",
        "x,y=set()\n",
        "print(x,y)"
      ],
      "metadata": {
        "colab": {
          "base_uri": "https://localhost:8080/"
        },
        "id": "3lnK8-0XaEkx",
        "outputId": "743fd1a6-b97e-460e-dc48-3acc51cd07ac"
      },
      "execution_count": 76,
      "outputs": [
        {
          "output_type": "stream",
          "name": "stdout",
          "text": [
            "1 2\n"
          ]
        }
      ]
    },
    {
      "cell_type": "code",
      "source": [
        "def mul(a, b):\n",
        "    c = a * b\n",
        "    return c\n",
        " \n",
        "def add(a, b):\n",
        "    c = a + b\n",
        "    print(c)\n",
        "    d = mul(a, b)\n",
        "    print(d)\n",
        " \n",
        "x = 10\n",
        "y = 20\n",
        "add(x, y)"
      ],
      "metadata": {
        "colab": {
          "base_uri": "https://localhost:8080/"
        },
        "id": "-OC46WbTdLmB",
        "outputId": "a6774655-1a16-4293-a40e-83e983758fd8"
      },
      "execution_count": 77,
      "outputs": [
        {
          "output_type": "stream",
          "name": "stdout",
          "text": [
            "30\n",
            "200\n"
          ]
        }
      ]
    },
    {
      "cell_type": "code",
      "source": [
        "x, y = map(int, input().split())\n",
        "def cale(b,c):\n",
        "    return b+c, b-c, b*c, b/c\n",
        "a, s, m, d = cale(x, y)\n",
        "print('덧셈: {0}, 뺄셈: {1}, 곱셈: {2}, 나눗셈: {3}'.format(a, s, m, d))"
      ],
      "metadata": {
        "colab": {
          "base_uri": "https://localhost:8080/"
        },
        "id": "fZRZd36Igj7Z",
        "outputId": "530a0141-3364-46ad-f13c-b45a527d873e"
      },
      "execution_count": 82,
      "outputs": [
        {
          "output_type": "stream",
          "name": "stdout",
          "text": [
            "10 20\n",
            "덧셈: 30, 뺄셈: -10, 곱셈: 200, 나눗셈: 0.5\n"
          ]
        }
      ]
    },
    {
      "cell_type": "code",
      "source": [
        " def print_numbers(*y):\n",
        "     for arg in y:\n",
        "         print(arg)\n",
        " \n",
        " y = [10, 20, 30, 40]\n",
        "print_numbers(*y)"
      ],
      "metadata": {
        "colab": {
          "base_uri": "https://localhost:8080/"
        },
        "id": "6nAIDpsch2mY",
        "outputId": "9b2006e5-cb8c-41e3-a9ce-1c16b6ef9ea9"
      },
      "execution_count": 85,
      "outputs": [
        {
          "output_type": "stream",
          "name": "stdout",
          "text": [
            "10\n",
            "20\n",
            "30\n",
            "40\n"
          ]
        }
      ]
    },
    {
      "cell_type": "code",
      "source": [
        "def print_numbers(a, *b):\n",
        "...     print(a)\n",
        "...     print(b)\n",
        "...\n",
        ">>> print_numbers(1,10,20)\n",
        "\n",
        "\n"
      ],
      "metadata": {
        "colab": {
          "base_uri": "https://localhost:8080/"
        },
        "id": "J0wh37K3nYv8",
        "outputId": "13b08c46-fbcf-49d2-e92a-449c1ee2b3a3"
      },
      "execution_count": 94,
      "outputs": [
        {
          "output_type": "stream",
          "name": "stdout",
          "text": [
            "1\n",
            "(10, 20)\n"
          ]
        }
      ]
    },
    {
      "cell_type": "code",
      "source": [
        " def personal_info(name, age, address):\n",
        "     print('이름: ', name)\n",
        "     print('나이: ', age)\n",
        "     print('주소: ', address)\n",
        "personal_info('홍길동', 30, '서울시 용산구 이촌동')\n",
        "\n",
        "\n",
        "# == personal_info(age=30, address='서울시 용산구 이촌동', name='홍길동')\n",
        "\n",
        "# == x = {'name': '홍길동', 'age': 30, 'address': '서울시 용산구 이촌동'}\n",
        "# personal_info(**x)"
      ],
      "metadata": {
        "colab": {
          "base_uri": "https://localhost:8080/"
        },
        "id": "vjZNIce1nxEQ",
        "outputId": "612485ce-706c-4e80-eaba-b1e11a7ce75c"
      },
      "execution_count": 99,
      "outputs": [
        {
          "output_type": "stream",
          "name": "stdout",
          "text": [
            "이름:  홍길동\n",
            "나이:  30\n",
            "주소:  서울시 용산구 이촌동\n"
          ]
        }
      ]
    },
    {
      "cell_type": "code",
      "source": [
        "def personal_info(name, age, address='비공개'):  #personal_info('홍길동', 30, '서울시 용산구 이촌동') 도 가능\n",
        "    print('이름: ', name)\n",
        "    print('나이: ', age)\n",
        "    print('주소: ', address)\n",
        "\n",
        "personal_info('홍길동', 30)\n",
        "\n",
        "#def personal_info(name, age, address='비공개'):\n",
        "#def personal_info(name, age=0, address='비공개'):\n",
        "#def personal_info(name='비공개', age=0, address='비공개'): 처럼 뒤쪽 부터 초깃값을 지정해야만한다."
      ],
      "metadata": {
        "colab": {
          "base_uri": "https://localhost:8080/"
        },
        "id": "es_Q8Z66sI9p",
        "outputId": "79ec4567-44f2-47d7-8c20-107de8d4b98e"
      },
      "execution_count": 98,
      "outputs": [
        {
          "output_type": "stream",
          "name": "stdout",
          "text": [
            "이름:  홍길동\n",
            "나이:  30\n",
            "주소:  비공개\n"
          ]
        }
      ]
    },
    {
      "cell_type": "code",
      "source": [
        "def factorial(n):\n",
        "    if n == 1:     \n",
        "        return 1    # 1을 반환하고 재귀호출을 끝냄\n",
        "    return n * factorial(n - 1)   \n",
        " \n",
        "print(factorial(5))"
      ],
      "metadata": {
        "colab": {
          "base_uri": "https://localhost:8080/"
        },
        "id": "Vxj-9GebsQay",
        "outputId": "beb22224-e17e-42a1-bfc7-2f3781fca1a0"
      },
      "execution_count": 100,
      "outputs": [
        {
          "output_type": "stream",
          "name": "stdout",
          "text": [
            "120\n"
          ]
        }
      ]
    },
    {
      "cell_type": "code",
      "source": [
        "def a(n):\n",
        "  if n <= 1:\n",
        "    return n\n",
        "  else:\n",
        "    return a(n-1)+ a(n-2)\n",
        "n = int(input())\n",
        "print(a(n))"
      ],
      "metadata": {
        "colab": {
          "base_uri": "https://localhost:8080/"
        },
        "id": "tL9DMrbKukUs",
        "outputId": "ed0da982-1a22-4cab-baa5-91ce6974fbb3"
      },
      "execution_count": 101,
      "outputs": [
        {
          "output_type": "stream",
          "name": "stdout",
          "text": [
            "10\n",
            "55\n"
          ]
        }
      ]
    }
  ]
}