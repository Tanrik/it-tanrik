{
  "nbformat": 4,
  "nbformat_minor": 0,
  "metadata": {
    "colab": {
      "name": "Untitled0.ipynb의 사본",
      "provenance": [],
      "collapsed_sections": []
    },
    "kernelspec": {
      "name": "python3",
      "display_name": "Python 3"
    },
    "language_info": {
      "name": "python"
    }
  },
  "cells": [
    {
      "cell_type": "code",
      "source": [
        "\n",
        "\n",
        "print('Hollw, world!')"
      ],
      "metadata": {
        "id": "OW_yt4AFtQhi",
        "colab": {
          "base_uri": "https://localhost:8080/"
        },
        "outputId": "0b239561-0e80-47f9-ebb0-60f21216d39a"
      },
      "execution_count": null,
      "outputs": [
        {
          "output_type": "stream",
          "name": "stdout",
          "text": [
            "Hollw, world!\n"
          ]
        }
      ]
    },
    {
      "cell_type": "code",
      "source": [
        "print('Hello');print(\"1234\")"
      ],
      "metadata": {
        "colab": {
          "base_uri": "https://localhost:8080/"
        },
        "id": "RJyMOq_Yy9Vt",
        "outputId": "60cedb65-9cac-403c-d23f-21ccff24be3b"
      },
      "execution_count": null,
      "outputs": [
        {
          "output_type": "stream",
          "name": "stdout",
          "text": [
            "Hello\n",
            "1234\n"
          ]
        }
      ]
    },
    {
      "cell_type": "code",
      "source": [
        "#print(\"hello, world!\")"
      ],
      "metadata": {
        "id": "RfvGzKbE99ui"
      },
      "execution_count": null,
      "outputs": []
    },
    {
      "cell_type": "code",
      "source": [
        "if a==10:\n",
        "print('10입니다.') "
      ],
      "metadata": {
        "colab": {
          "base_uri": "https://localhost:8080/",
          "height": 139
        },
        "id": "QjAMV7hc-J8I",
        "outputId": "a516c527-24f3-459d-906c-2b29b94ef0a1"
      },
      "execution_count": null,
      "outputs": [
        {
          "output_type": "error",
          "ename": "IndentationError",
          "evalue": "ignored",
          "traceback": [
            "\u001b[0;36m  File \u001b[0;32m\"<ipython-input-4-314066b7ee6a>\"\u001b[0;36m, line \u001b[0;32m2\u001b[0m\n\u001b[0;31m    print('10입니다.')\u001b[0m\n\u001b[0m        ^\u001b[0m\n\u001b[0;31mIndentationError\u001b[0m\u001b[0;31m:\u001b[0m expected an indented block\n"
          ]
        }
      ]
    },
    {
      "cell_type": "code",
      "source": [
        "if a==10:\n",
        "    print('10')\n",
        "    print('입니다.')\n"
      ],
      "metadata": {
        "colab": {
          "base_uri": "https://localhost:8080/",
          "height": 211
        },
        "id": "WzNh8ngA-lRD",
        "outputId": "51bccd8c-5328-4e0e-c483-fdb289f88608"
      },
      "execution_count": null,
      "outputs": [
        {
          "output_type": "error",
          "ename": "NameError",
          "evalue": "ignored",
          "traceback": [
            "\u001b[0;31m---------------------------------------------------------------------------\u001b[0m",
            "\u001b[0;31mNameError\u001b[0m                                 Traceback (most recent call last)",
            "\u001b[0;32m<ipython-input-10-0888591e1a2f>\u001b[0m in \u001b[0;36m<module>\u001b[0;34m()\u001b[0m\n\u001b[0;32m----> 1\u001b[0;31m \u001b[0;32mif\u001b[0m \u001b[0ma\u001b[0m\u001b[0;34m==\u001b[0m\u001b[0;36m10\u001b[0m\u001b[0;34m:\u001b[0m\u001b[0;34m\u001b[0m\u001b[0;34m\u001b[0m\u001b[0m\n\u001b[0m\u001b[1;32m      2\u001b[0m     \u001b[0mprint\u001b[0m\u001b[0;34m(\u001b[0m\u001b[0;34m'10'\u001b[0m\u001b[0;34m)\u001b[0m\u001b[0;34m\u001b[0m\u001b[0;34m\u001b[0m\u001b[0m\n\u001b[1;32m      3\u001b[0m     \u001b[0mprint\u001b[0m\u001b[0;34m(\u001b[0m\u001b[0;34m'입니다.'\u001b[0m\u001b[0;34m)\u001b[0m\u001b[0;34m\u001b[0m\u001b[0;34m\u001b[0m\u001b[0m\n",
            "\u001b[0;31mNameError\u001b[0m: name 'a' is not defined"
          ]
        }
      ]
    },
    {
      "cell_type": "code",
      "source": [
        "a=1\n",
        "b=2\n",
        "c=4\n",
        "d=5\n",
        "e=2.0\n",
        "f=2.1\n",
        "w=3.3\n",
        "x=10\n",
        "y=4.1\n",
        "z=5.5\n",
        "\n",
        "\n",
        "g=a+a\n",
        "h=a-b\n",
        "i=b*b\n",
        "j=d/b\n",
        "k=d//b\n",
        "l=c//b\n",
        "m=z//b\n",
        "n=c//e\n",
        "o=y//f\n",
        "p=d%b\n",
        "q=b**x\n",
        "r=int(w)\n",
        "s=int(d/b)\n",
        "\n",
        "print(g,h,i,j,k,l,m,n,o,p,q,r,s, sep='\\n')\n"
      ],
      "metadata": {
        "colab": {
          "base_uri": "https://localhost:8080/"
        },
        "id": "bc5GSnjK__Z0",
        "outputId": "64daa321-43a5-4931-a92b-b722a94b2cd5"
      },
      "execution_count": null,
      "outputs": [
        {
          "output_type": "stream",
          "name": "stdout",
          "text": [
            "2\n",
            "-1\n",
            "4\n",
            "2.5\n",
            "2\n",
            "2\n",
            "2.0\n",
            "2.0\n",
            "1.0\n",
            "1\n",
            "1024\n",
            "3\n",
            "2\n"
          ]
        }
      ]
    },
    {
      "cell_type": "code",
      "source": [
        "int('10')"
      ],
      "metadata": {
        "colab": {
          "base_uri": "https://localhost:8080/"
        },
        "id": "IiRaKnwnHcVg",
        "outputId": "44702830-9e90-43a7-bb67-612d7d5600f4"
      },
      "execution_count": null,
      "outputs": [
        {
          "output_type": "execute_result",
          "data": {
            "text/plain": [
              "10"
            ]
          },
          "metadata": {},
          "execution_count": 16
        }
      ]
    },
    {
      "cell_type": "code",
      "source": [
        "type(10)"
      ],
      "metadata": {
        "colab": {
          "base_uri": "https://localhost:8080/"
        },
        "id": "5l8DndPBJRlo",
        "outputId": "746a12fd-982e-46a7-f131-61f437d28b7b"
      },
      "execution_count": null,
      "outputs": [
        {
          "output_type": "execute_result",
          "data": {
            "text/plain": [
              "int"
            ]
          },
          "metadata": {},
          "execution_count": 17
        }
      ]
    },
    {
      "cell_type": "code",
      "source": [
        "divmod(5,2)"
      ],
      "metadata": {
        "colab": {
          "base_uri": "https://localhost:8080/"
        },
        "id": "oL0J7T5CKkN9",
        "outputId": "f30df67a-7140-4947-b490-2788105b9a59"
      },
      "execution_count": null,
      "outputs": [
        {
          "output_type": "execute_result",
          "data": {
            "text/plain": [
              "(2, 1)"
            ]
          },
          "metadata": {},
          "execution_count": 18
        }
      ]
    },
    {
      "cell_type": "code",
      "source": [
        "quotient, remainder=divmod(5,2)\n",
        "print(quotient, remainder)"
      ],
      "metadata": {
        "colab": {
          "base_uri": "https://localhost:8080/"
        },
        "id": "ThPsFw6VKwiG",
        "outputId": "1cdcb810-12e6-4b80-a39d-fca17a418524"
      },
      "execution_count": null,
      "outputs": [
        {
          "output_type": "stream",
          "name": "stdout",
          "text": [
            "2 1\n"
          ]
        }
      ]
    },
    {
      "cell_type": "code",
      "source": [
        "0b110"
      ],
      "metadata": {
        "colab": {
          "base_uri": "https://localhost:8080/"
        },
        "id": "WCaQfZzBLRw6",
        "outputId": "8a5cf661-9189-47c5-e913-90350464e883"
      },
      "execution_count": null,
      "outputs": [
        {
          "output_type": "execute_result",
          "data": {
            "text/plain": [
              "6"
            ]
          },
          "metadata": {},
          "execution_count": 20
        }
      ]
    },
    {
      "cell_type": "code",
      "source": [
        "0o10"
      ],
      "metadata": {
        "colab": {
          "base_uri": "https://localhost:8080/"
        },
        "id": "FtUeJ-fDLeri",
        "outputId": "f375fd52-ac93-499f-d5e3-52224a49e40c"
      },
      "execution_count": null,
      "outputs": [
        {
          "output_type": "execute_result",
          "data": {
            "text/plain": [
              "8"
            ]
          },
          "metadata": {},
          "execution_count": 21
        }
      ]
    },
    {
      "cell_type": "code",
      "source": [
        "0xF"
      ],
      "metadata": {
        "colab": {
          "base_uri": "https://localhost:8080/"
        },
        "id": "UkJe5YHzLh3J",
        "outputId": "0aaae367-7077-4ea1-e663-f1b91eadbcbb"
      },
      "execution_count": null,
      "outputs": [
        {
          "output_type": "execute_result",
          "data": {
            "text/plain": [
              "15"
            ]
          },
          "metadata": {},
          "execution_count": 22
        }
      ]
    },
    {
      "cell_type": "code",
      "source": [
        "a=[3.5,2.1,4.3,2.7,1.5,3.1,5.5,4.2,5,1,2,5.3]\n",
        "b=[0,0,0,0,0,0,0]\n",
        "\n",
        "#a.remove(5.3)\n",
        "del a[-1]\n",
        "b[0]=a[0]+a[1]\n",
        "b[1]=a[2]-a[3]\n",
        "b[2]=a[4]*a[5]\n",
        "b[3]=a[6]/a[5]\n",
        "b[4]=a[7]+a[8]\n",
        "b[5]=float(a[8])\n",
        "b[6]=float(a[-2]+a[len(b)+3])\n",
        "\n",
        "print(b)\n",
        "# b도 가능!\n"
      ],
      "metadata": {
        "colab": {
          "base_uri": "https://localhost:8080/"
        },
        "id": "1UI63NaKLkrx",
        "outputId": "32e28301-a718-48b1-d9ad-c249e2aa0ae1"
      },
      "execution_count": null,
      "outputs": [
        {
          "output_type": "stream",
          "name": "stdout",
          "text": [
            "[5.6, 1.5999999999999996, 4.65, 1.7741935483870968, 9.2, 5.0, 3.0]\n"
          ]
        }
      ]
    },
    {
      "cell_type": "code",
      "source": [
        "float('5.3')"
      ],
      "metadata": {
        "colab": {
          "base_uri": "https://localhost:8080/"
        },
        "id": "3yg7zqv5YHPb",
        "outputId": "af001629-c8e0-4834-86b2-a67cbad8483d"
      },
      "execution_count": null,
      "outputs": [
        {
          "output_type": "execute_result",
          "data": {
            "text/plain": [
              "5.3"
            ]
          },
          "metadata": {},
          "execution_count": 25
        }
      ]
    },
    {
      "cell_type": "code",
      "source": [
        "type(3.5)"
      ],
      "metadata": {
        "colab": {
          "base_uri": "https://localhost:8080/"
        },
        "id": "4uwkAi8FaYpc",
        "outputId": "dc662945-847a-4d62-b0c6-797c544a3cc0"
      },
      "execution_count": null,
      "outputs": [
        {
          "output_type": "execute_result",
          "data": {
            "text/plain": [
              "float"
            ]
          },
          "metadata": {},
          "execution_count": 26
        }
      ]
    },
    {
      "cell_type": "code",
      "source": [
        "a= 35+1*2\n",
        "b= (35+1)*2\n",
        "print(a,b, sep=',')"
      ],
      "metadata": {
        "colab": {
          "base_uri": "https://localhost:8080/"
        },
        "id": "tmbSzW7Af436",
        "outputId": "1572b5e8-a56b-40ec-a7f4-20a16c97f811"
      },
      "execution_count": null,
      "outputs": [
        {
          "output_type": "stream",
          "name": "stdout",
          "text": [
            "37,72\n"
          ]
        }
      ]
    },
    {
      "cell_type": "code",
      "source": [
        "a=int(input('입력'))\n",
        "\n",
        "b=0.2467*a+4.159\n",
        "\n",
        "# b=int(b)일시\n",
        "\n",
        "print(int(b)) \n",
        "#print(b)이다."
      ],
      "metadata": {
        "colab": {
          "base_uri": "https://localhost:8080/"
        },
        "id": "WaaBHnjbipl8",
        "outputId": "1ab04287-22b9-453c-fba4-77c0b78ee1c8"
      },
      "execution_count": null,
      "outputs": [
        {
          "output_type": "stream",
          "name": "stdout",
          "text": [
            "입력12\n",
            "7\n"
          ]
        }
      ]
    },
    {
      "cell_type": "code",
      "source": [
        "x, y, z=10, 20, 30\n",
        "print(x, y, z, sep=',')"
      ],
      "metadata": {
        "colab": {
          "base_uri": "https://localhost:8080/"
        },
        "id": "kd_uZ0kejQex",
        "outputId": "9ee85fe8-0cdb-42db-f217-0085649e6c72"
      },
      "execution_count": null,
      "outputs": [
        {
          "output_type": "stream",
          "name": "stdout",
          "text": [
            "10,20,30\n"
          ]
        }
      ]
    },
    {
      "cell_type": "code",
      "source": [
        "x=y=z=10\n",
        "print(x, end='')\n",
        "print(y, end=' ')\n",
        "print(z)"
      ],
      "metadata": {
        "colab": {
          "base_uri": "https://localhost:8080/"
        },
        "id": "vZOKDbDSk7QG",
        "outputId": "1bae3300-2d27-4684-cf43-867c29462569"
      },
      "execution_count": null,
      "outputs": [
        {
          "output_type": "stream",
          "name": "stdout",
          "text": [
            "1010 10\n"
          ]
        }
      ]
    },
    {
      "cell_type": "code",
      "source": [
        "x,y=10,20\n",
        "x,y=y,x\n",
        "\n",
        "print(x, end='')\n",
        "print(y)"
      ],
      "metadata": {
        "colab": {
          "base_uri": "https://localhost:8080/"
        },
        "id": "RMMIFgUolDyw",
        "outputId": "be7f52c3-28db-47b3-bfa8-48b2a5eb58d5"
      },
      "execution_count": null,
      "outputs": [
        {
          "output_type": "stream",
          "name": "stdout",
          "text": [
            "2010\n"
          ]
        }
      ]
    },
    {
      "cell_type": "code",
      "source": [
        "x= None\n",
        "print(x)"
      ],
      "metadata": {
        "colab": {
          "base_uri": "https://localhost:8080/"
        },
        "id": "zYb2O1asmuQn",
        "outputId": "647c724a-a8c9-4542-8e87-724eebdb96cc"
      },
      "execution_count": null,
      "outputs": [
        {
          "output_type": "stream",
          "name": "stdout",
          "text": [
            "None\n"
          ]
        }
      ]
    },
    {
      "cell_type": "code",
      "source": [
        "a=10\n",
        "a+=20\n",
        "a"
      ],
      "metadata": {
        "colab": {
          "base_uri": "https://localhost:8080/"
        },
        "id": "yLPQaU3Xm4yd",
        "outputId": "e80fe630-16f3-4855-e9a8-240653512dfd"
      },
      "execution_count": null,
      "outputs": [
        {
          "output_type": "execute_result",
          "data": {
            "text/plain": [
              "30"
            ]
          },
          "metadata": {},
          "execution_count": 72
        }
      ]
    },
    {
      "cell_type": "code",
      "source": [
        "x=-10\n",
        "print(+x, end=' ')\n",
        "print(-x)"
      ],
      "metadata": {
        "colab": {
          "base_uri": "https://localhost:8080/"
        },
        "id": "BK8M0zTGm7JR",
        "outputId": "357511b4-2f0a-40e1-eb02-426afb805546"
      },
      "execution_count": null,
      "outputs": [
        {
          "output_type": "stream",
          "name": "stdout",
          "text": [
            "-10 10\n"
          ]
        }
      ]
    },
    {
      "cell_type": "code",
      "source": [
        "a=['수학', '국어', '영어', '사화', '한국사', '과학']\n",
        "# a=[0,0,0,0,0,0]가능\n",
        "a[0], a[1], a[2], a[3], a[4], a[5]= map(float, input('수학, 국어, 영어, 사회, 한국사,과학의 점수를 차례대로 입력하시오:').split(','))\n",
        "\n",
        "#a[0], a[1], a[2], a[3], a[4], a[5]= input('수학, 국어, 영어, 사회, 한국사,과학의 점수를 차례대로 입력하시오:').split(',')\n",
        "#a[0]=int[0]\n",
        "#a[1]=int[1]....\n",
        "\n",
        "print((a[0]+a[1]+a[2]+a[3]+a[len(a)-2]+a[5])/6)\n",
        "#print(a/6)은 불가"
      ],
      "metadata": {
        "colab": {
          "base_uri": "https://localhost:8080/"
        },
        "id": "lXq1K4BCop6T",
        "outputId": "9ea81f51-1241-4936-a8fb-ff164f9b107e"
      },
      "execution_count": null,
      "outputs": [
        {
          "output_type": "stream",
          "name": "stdout",
          "text": [
            "수학, 국어, 영어, 사회, 한국사,과학의 점수를 차례대로 입력하시오:10,20,30,40,50,60\n",
            "35.0\n"
          ]
        }
      ]
    },
    {
      "cell_type": "code",
      "source": [
        "a=[10, 20, 30]\n",
        "b=input('입력:')\n",
        "#b=map(int, input('입력:').split())은 불가\n",
        "b=int(b)\n",
        "print(a[b])\n"
      ],
      "metadata": {
        "id": "o0GME089Dmed",
        "colab": {
          "base_uri": "https://localhost:8080/"
        },
        "outputId": "42676f04-2ac2-4a9f-be60-7d482a0d2b29"
      },
      "execution_count": null,
      "outputs": [
        {
          "output_type": "stream",
          "name": "stdout",
          "text": [
            "입력:2\n",
            "30\n"
          ]
        }
      ]
    },
    {
      "cell_type": "code",
      "source": [
        ""
      ],
      "metadata": {
        "id": "oRmoWYo6hrBJ"
      },
      "execution_count": null,
      "outputs": []
    }
  ]
}