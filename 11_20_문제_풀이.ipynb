{
  "nbformat": 4,
  "nbformat_minor": 0,
  "metadata": {
    "colab": {
      "provenance": []
    },
    "kernelspec": {
      "name": "python3",
      "display_name": "Python 3"
    },
    "language_info": {
      "name": "python"
    }
  },
  "cells": [
    {
      "cell_type": "code",
      "execution_count": 7,
      "metadata": {
        "colab": {
          "base_uri": "https://localhost:8080/"
        },
        "id": "NHeYHzALU5B1",
        "outputId": "07ddb0aa-dbe4-43cf-e74e-3070194489c0"
      },
      "outputs": [
        {
          "output_type": "stream",
          "name": "stdout",
          "text": [
            "2 4 6 8 10 12 14 16 18 "
          ]
        }
      ],
      "source": [
        "a=2\n",
        "for i in range(1,10):\n",
        "  b=a*i\n",
        "  print(b,end=' ')"
      ]
    },
    {
      "cell_type": "code",
      "source": [
        "a=0\n",
        "for i in range(1,101):\n",
        "  str(i)\n",
        "  print(i,end=\"\")\n",
        "  a=i+a\n",
        "print(f' 총합은{a}')"
      ],
      "metadata": {
        "colab": {
          "base_uri": "https://localhost:8080/"
        },
        "id": "fS8RMb4-V0X1",
        "outputId": "49d74285-bbe3-4a9b-bec7-75e2f1d2d74c"
      },
      "execution_count": 27,
      "outputs": [
        {
          "output_type": "stream",
          "name": "stdout",
          "text": [
            "123456789101112131415161718192021222324252627282930313233343536373839404142434445464748495051525354555657585960616263646566676869707172737475767778798081828384858687888990919293949596979899100 총합은5050\n"
          ]
        }
      ]
    },
    {
      "cell_type": "code",
      "source": [],
      "metadata": {
        "id": "_qqWaXyRXgYA"
      },
      "execution_count": null,
      "outputs": []
    }
  ]
}