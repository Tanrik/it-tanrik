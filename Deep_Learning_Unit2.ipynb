{
  "nbformat": 4,
  "nbformat_minor": 0,
  "metadata": {
    "colab": {
      "provenance": [],
      "collapsed_sections": []
    },
    "kernelspec": {
      "name": "python3",
      "display_name": "Python 3"
    },
    "language_info": {
      "name": "python"
    }
  },
  "cells": [
    {
      "cell_type": "markdown",
      "source": [
        " 퍼셉트론 구현"
      ],
      "metadata": {
        "id": "vpUh_ADfyEUb"
      }
    },
    {
      "cell_type": "markdown",
      "source": [
        "퍼셉트론은 \n",
        "\n",
        "입력 신호(x1, x2)가 각각 고유한 가중치(w1, w2)가 곱해진 값의 두 합이 한계(임계값-theta)를 넘었을 때 1을 출력\n",
        "\n",
        "또 가중치가 클수록 해당 신호가 그만큼 더 중요함을 뜻함\n"
      ],
      "metadata": {
        "id": "o-DOjmg5jVZ6"
      }
    },
    {
      "cell_type": "markdown",
      "source": [
        "and 함수\n",
        "\n",
        "두 입력신호가 1이상이면 1을 출력함\n",
        "\n",
        "or 함수\n",
        "\n",
        "하나의 입력신호가 1이상이면 1을 출력함 \n",
        "\n",
        "nand 함수\n",
        "\n",
        "두 입력신호가 1 이상이면 0을 출려함- and 함수와 정반대의 함수"
      ],
      "metadata": {
        "id": "0IXdlFArkIMC"
      }
    },
    {
      "cell_type": "code",
      "execution_count": null,
      "metadata": {
        "id": "p-Vbf0FkxiC2",
        "colab": {
          "base_uri": "https://localhost:8080/"
        },
        "outputId": "0bfea199-59cc-4790-a0ec-ffe544c7a037"
      },
      "outputs": [
        {
          "output_type": "stream",
          "name": "stdout",
          "text": [
            "0\n"
          ]
        }
      ],
      "source": [
        "# and 함수(예)\n",
        "def a(x1,x2):\n",
        "    w1,w2,theta= 0.5,0.5,0.7\n",
        "    tmp=x1*w1+x2*w2\n",
        "    if tmp <= theta:\n",
        "        return 0\n",
        "    elif tmp > theta:\n",
        "        return 1\n",
        "print(a(0,0))"
      ]
    },
    {
      "cell_type": "markdown",
      "source": [
        "가중치와 편향 구현하기"
      ],
      "metadata": {
        "id": "WT0GLbNjdTKo"
      }
    },
    {
      "cell_type": "markdown",
      "source": [
        "가중치와 편향\n",
        "\n",
        "임계값(theta)을 -b(편향)으로 치환 하여 구현한 퍼셉트론이라고 할수 있다.\n",
        "\n",
        "위와 약간 다르게 입력신호와 가중치의 곱에 합과 편향을 더한 값이 0을 초과하면 1이 출력되고 아니면 0이 출력된다."
      ],
      "metadata": {
        "id": "eFGJr5IgmNqC"
      }
    },
    {
      "cell_type": "code",
      "source": [
        "# and 게이트-두 가중치의 합이 편향을 넘으면 됨\n",
        "import numpy as np\n",
        "def a(x1, x2):\n",
        "    x = np.array([x1, x2])\n",
        "    w = np.array([0.5,0.5])\n",
        "    b = -0.7\n",
        "    i = np.sum(x*w)+b\n",
        "    if i <= 0:\n",
        "        return 0\n",
        "    else:\n",
        "        return 1\n",
        "\n",
        "print(a(1,1))"
      ],
      "metadata": {
        "id": "7s2SRtJqXt4-",
        "colab": {
          "base_uri": "https://localhost:8080/"
        },
        "outputId": "10b999ac-070b-46a4-f997-446312a5de91"
      },
      "execution_count": null,
      "outputs": [
        {
          "output_type": "stream",
          "name": "stdout",
          "text": [
            "1\n"
          ]
        }
      ]
    },
    {
      "cell_type": "code",
      "source": [
        "# or 게이트-하나의 가중치가 편향을 넘으면 됨\n",
        "def a(x1, x2):\n",
        "    x = np.array([x1, x2])\n",
        "    w = np.array([0.5,0.5])\n",
        "    b = -0.2\n",
        "    i = np.sum(x*w)+b\n",
        "    if i <= 0:\n",
        "        return 0\n",
        "    else:\n",
        "        return 1\n",
        "\n",
        "print(a(0,1))"
      ],
      "metadata": {
        "id": "xnP7PeTFaUey",
        "colab": {
          "base_uri": "https://localhost:8080/"
        },
        "outputId": "fddc2943-fc9f-406f-dc4a-3f6e32ab53e8"
      },
      "execution_count": null,
      "outputs": [
        {
          "output_type": "stream",
          "name": "stdout",
          "text": [
            "1\n"
          ]
        }
      ]
    },
    {
      "cell_type": "code",
      "source": [
        "# nand 게이트- and의 정반대\n",
        "def a(x1, x2):\n",
        "    x = np.array([x1, x2])\n",
        "    w = np.array([-0.5,-0.5])\n",
        "    b = 0.7\n",
        "    i = np.sum(x*w)+b\n",
        "    if i <= 0:\n",
        "        return 0\n",
        "    else:\n",
        "        return 1\n",
        "\n",
        "print(a(1,1))"
      ],
      "metadata": {
        "colab": {
          "base_uri": "https://localhost:8080/"
        },
        "id": "-Q9hPwE_pWbV",
        "outputId": "702dc6be-98c8-4668-c1e5-4cad1330688a"
      },
      "execution_count": null,
      "outputs": [
        {
          "output_type": "stream",
          "name": "stdout",
          "text": [
            "0\n"
          ]
        }
      ]
    },
    {
      "cell_type": "markdown",
      "source": [
        "퍼셉트론의 한계\n",
        "\n",
        "위 3가지 논리 회로 이외의 XOR 게이트(베타적 논리합-두 신호중 하나만 있을 때만 1일 출력함)를 표현 할 수 없다."
      ],
      "metadata": {
        "id": "KTYL6bpQgSLb"
      }
    },
    {
      "cell_type": "markdown",
      "source": [
        "다층 퍼셉트론\n",
        "\n",
        "여러 개의 페셉트론을 이용해서 위 한계를 해결할 수 있수있다."
      ],
      "metadata": {
        "id": "S6_Nymabgjcu"
      }
    },
    {
      "cell_type": "code",
      "source": [
        "import numpy as np\n",
        "def NAND(x1, x2):\n",
        "    x = np.array([x1, x2])\n",
        "    w = np.array([-0.5,-0.5])\n",
        "    b = 0.7\n",
        "    i = np.sum(x*w)+b\n",
        "    if i <= 0:\n",
        "        return 0\n",
        "    else:\n",
        "        return 1\n",
        "\n",
        "def OR(x1, x2):\n",
        "    x = np.array([x1, x2])\n",
        "    w = np.array([0.5,0.5])\n",
        "    b = -0.2\n",
        "    i = np.sum(x*w)+b\n",
        "    if i <= 0:\n",
        "        return 0\n",
        "    else:\n",
        "        return 1\n",
        "        \n",
        "def AND(x1, x2):\n",
        "    x = np.array([x1, x2])\n",
        "    w = np.array([0.5,0.5])\n",
        "    b = -0.7\n",
        "    i = np.sum(x*w)+b\n",
        "    if i <= 0:\n",
        "        return 0\n",
        "    else:\n",
        "        return 1\n",
        "\n",
        "def XOR(x1, x2):\n",
        "    s1 = NAND(x1, x2)\n",
        "    s2 = OR(x1, x2)\n",
        "    y = AND(s1, s2)\n",
        "    return y\n",
        "\n",
        "print(XOR(0,0))\n",
        "print(XOR(0,1))\n",
        "print(XOR(1,0))\n",
        "print(XOR(1,1))"
      ],
      "metadata": {
        "colab": {
          "base_uri": "https://localhost:8080/"
        },
        "id": "KF65DA-XsDg0",
        "outputId": "50f75532-d130-41cd-d72f-e2498b7f5c75"
      },
      "execution_count": 11,
      "outputs": [
        {
          "output_type": "stream",
          "name": "stdout",
          "text": [
            "0\n",
            "1\n",
            "1\n",
            "0\n"
          ]
        }
      ]
    },
    {
      "cell_type": "markdown",
      "source": [
        "이를 약간 응용하여 두 신호 둘다 있으때와 없을 때 게이트를 만들 수 있다."
      ],
      "metadata": {
        "id": "HtnLJho0vwkW"
      }
    },
    {
      "cell_type": "code",
      "source": [
        "import numpy as np\n",
        "def NAND(x1, x2):\n",
        "    x = np.array([x1, x2])\n",
        "    w = np.array([-0.5,-0.5])\n",
        "    b = 0.7\n",
        "    i = np.sum(x*w)+b\n",
        "    if i <= 0:\n",
        "        return 0\n",
        "    else:\n",
        "        return 1\n",
        "\n",
        "def OR(x1, x2):\n",
        "    x = np.array([x1, x2])\n",
        "    w = np.array([0.5,0.5])\n",
        "    b = -0.2\n",
        "    i = np.sum(x*w)+b\n",
        "    if i <= 0:\n",
        "        return 0\n",
        "    else:\n",
        "        return 1\n",
        "        \n",
        "def AND(x1, x2):\n",
        "    x = np.array([x1, x2])\n",
        "    w = np.array([0.5,0.5])\n",
        "    b = -0.7\n",
        "    i = np.sum(x*w)+b\n",
        "    if i <= 0:\n",
        "        return 0\n",
        "    else:\n",
        "        return 1\n",
        "\n",
        "def OOR(x1, x2):\n",
        "    s1 = NAND(x1, x2)\n",
        "    s2 = OR(x1, x2)\n",
        "    y = NAND(s1, s2)# 변화한 부분\n",
        "    return y\n",
        "\n",
        "print(OOR(0,0))\n",
        "print(OOR(0,1))\n",
        "print(OOR(1,0))\n",
        "print(OOR(1,1))"
      ],
      "metadata": {
        "colab": {
          "base_uri": "https://localhost:8080/"
        },
        "id": "ch5a-zm3vKAm",
        "outputId": "5eeaab31-9066-466d-b9f1-de4485c6722f"
      },
      "execution_count": 12,
      "outputs": [
        {
          "output_type": "stream",
          "name": "stdout",
          "text": [
            "1\n",
            "0\n",
            "0\n",
            "1\n"
          ]
        }
      ]
    },
    {
      "cell_type": "markdown",
      "source": [
        "이러한 XOR 게이트를 2층 퍼셉트론 (퍼셉트론은 모두 3층으로 구성되지만 가중치가 있는 층은 2층 (수학문제 나무 심기와 유사)이기 때문에 2층 퍼셉트론이라고 하지만 문헌에 따라서 3층 퍼셉트론이라고 할 때가 있다.) "
      ],
      "metadata": {
        "id": "hDfU4iF6zdpo"
      }
    }
  ]
}