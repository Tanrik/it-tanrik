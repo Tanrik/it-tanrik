{
  "nbformat": 4,
  "nbformat_minor": 0,
  "metadata": {
    "colab": {
      "name": "Untitled1.ipynb",
      "provenance": []
    },
    "kernelspec": {
      "name": "python3",
      "display_name": "Python 3"
    },
    "language_info": {
      "name": "python"
    }
  },
  "cells": [
    {
      "cell_type": "code",
      "execution_count": 2,
      "metadata": {
        "colab": {
          "base_uri": "https://localhost:8080/"
        },
        "id": "F0QdvA0evVq7",
        "outputId": "1c6d90b0-22f7-4e76-edd4-c2d0afdd4e26"
      },
      "outputs": [
        {
          "output_type": "execute_result",
          "data": {
            "text/plain": [
              "True"
            ]
          },
          "metadata": {},
          "execution_count": 2
        }
      ],
      "source": [
        "True"
      ]
    },
    {
      "cell_type": "code",
      "source": [
        "False"
      ],
      "metadata": {
        "colab": {
          "base_uri": "https://localhost:8080/"
        },
        "id": "kU1zWdwpvbDZ",
        "outputId": "92237c05-229f-43e4-d383-1029e36dddf8"
      },
      "execution_count": 3,
      "outputs": [
        {
          "output_type": "execute_result",
          "data": {
            "text/plain": [
              "False"
            ]
          },
          "metadata": {},
          "execution_count": 3
        }
      ]
    },
    {
      "cell_type": "code",
      "source": [
        "a=[0,0,0]\n",
        "a[0]=3>1\n",
        "a[1]=10==10\n",
        "a[2]=10!=5\n",
        "a"
      ],
      "metadata": {
        "colab": {
          "base_uri": "https://localhost:8080/"
        },
        "id": "M_703SyKvjhz",
        "outputId": "c4ec98ae-e421-4622-cc51-ac84220b936c"
      },
      "execution_count": 11,
      "outputs": [
        {
          "output_type": "execute_result",
          "data": {
            "text/plain": [
              "[True, True, True]"
            ]
          },
          "metadata": {},
          "execution_count": 11
        }
      ]
    },
    {
      "cell_type": "code",
      "source": [
        "'Python'=='Python'\n",
        "#소문자도 인식함 따라서 'Python'=='python'은 거짓이 나온고 'Python'!='python'진실이 나온다."
      ],
      "metadata": {
        "colab": {
          "base_uri": "https://localhost:8080/"
        },
        "id": "wJiVj67cv8Ra",
        "outputId": "e6a4d724-b3ed-4a8c-b245-9fe3767329ce"
      },
      "execution_count": 7,
      "outputs": [
        {
          "output_type": "execute_result",
          "data": {
            "text/plain": [
              "True"
            ]
          },
          "metadata": {},
          "execution_count": 7
        }
      ]
    },
    {
      "cell_type": "code",
      "source": [
        "a=[0,0,0,0]\n",
        "a[0]= 10>20\n",
        "a[1]= 10<20\n",
        "a[2]= 10>=10\n",
        "a[3]= 10<=10\n",
        "a"
      ],
      "metadata": {
        "colab": {
          "base_uri": "https://localhost:8080/"
        },
        "id": "4DPGfU1Cwe__",
        "outputId": "35a440c1-1767-4c60-e4cd-931a8c7bb4a5"
      },
      "execution_count": 10,
      "outputs": [
        {
          "output_type": "execute_result",
          "data": {
            "text/plain": [
              "[False, True, True, True]"
            ]
          },
          "metadata": {},
          "execution_count": 10
        }
      ]
    },
    {
      "cell_type": "code",
      "source": [
        "a=[0,0,0]\n",
        "a[0]= 1==1.0\n",
        "a[1]= 1 is 1.0\n",
        "a[2]= a is not 1.0\n",
        "a\n",
        "# ==는 비교 대상의 숫자가 같은지만 확인하지만 is(==와 유사), is not(!=와 유사)은 숫자 뿐만이 아니라 정수(객체), 실수(객체)도 판단하기 때문에 a[1]은 거짓이 나오고 a[2]은 진실이 나오게 되는 것이다.\n",
        "\n",
        "# 1,1.0 이 서로 다른 것을 확인 하는 방법으로 id(변수)가 있으며 이는 객체의 고유한 값(메모리 주소)를 알려 주기 때문에 다름을 알 수 있다.\n",
        "\n",
        "# a=5와 a is 5는 성립할 때도 있고 아닐 때도 있다. 이는 a라는 변수 때문에 5가 다른 메모리 주소를 가지기 때문인데 따라서 숫자 비교는 무조건 ==으로 해야한다"
      ],
      "metadata": {
        "colab": {
          "base_uri": "https://localhost:8080/"
        },
        "id": "F6V2THe6xwf_",
        "outputId": "f1505f28-aecb-4bf6-9d57-da7dbe65a34f"
      },
      "execution_count": 14,
      "outputs": [
        {
          "output_type": "execute_result",
          "data": {
            "text/plain": [
              "[True, False, True]"
            ]
          },
          "metadata": {},
          "execution_count": 14
        }
      ]
    },
    {
      "cell_type": "code",
      "source": [
        "a=[0,0,0,0,0,0,0]\n",
        "a[0]=True and True\n",
        "a[1]=True and False\n",
        "a[2]=False and True\n",
        "a[3]=False and False\n",
        "\n",
        "a[4]=False and 'python'\n",
        "a[5]=0 and 'python'  # 0과''은 bool에 따라 거짓으로 인식하고 1은 참으로 인식한다.\n",
        "a[6]=1 and '' \n",
        "a\n",
        "#and는 두 값이 모든 참이야 참이 된다. 하나 또는 두개가 거짓이면 거짓이 된다\n",
        "\n",
        "#또한 단락 평가 때문에 첫 번째 값이 거짓일시 두번째 값을 보지 않고 바로 -첫 번째 값-을(a[4],a[5]참고) 출력한다. 반대로 첫 번째 값이 참일시 두 번째 값도 확인하고  -두 번째 값-을(a[6]참고) 출력하게 된다."
      ],
      "metadata": {
        "colab": {
          "base_uri": "https://localhost:8080/"
        },
        "id": "Hpfdc5B70E5M",
        "outputId": "a6efb45c-ec46-48be-a461-74fbad40c3ff"
      },
      "execution_count": 25,
      "outputs": [
        {
          "output_type": "execute_result",
          "data": {
            "text/plain": [
              "[True, False, False, False, False, 0, '']"
            ]
          },
          "metadata": {},
          "execution_count": 25
        }
      ]
    },
    {
      "cell_type": "code",
      "source": [
        "a=[0,0,0,0,0,0,0]\n",
        "a[0]=True or True\n",
        "a[1]=True or False\n",
        "a[2]=False or True\n",
        "a[3]= False or False\n",
        "\n",
        "a[4]= 'python' or True\n",
        "a[5]= False or 'python'\n",
        "a[6]= 0 or 1\n",
        "a\n",
        "#or은 두 값중 하나라도 참일시 참이 된다. 단 두 값 모두 거짓일시 거짓이 된다.\n",
        "\n",
        "#또한 단락 평가 때문에 첫 번째 값이 참이면 두 번째 값을 보지 않고 -첫 번째 값-을(a[4]참고) 출력하고 반대로 첫 번째 값이 거짓일시 두번째 값을 확인하고 -두 번째 값-을(a[5],a[6]참고) 출력하게 된다."
      ],
      "metadata": {
        "colab": {
          "base_uri": "https://localhost:8080/"
        },
        "id": "DHYUc3UV4jEV",
        "outputId": "96fa72a6-0b6b-43d7-f20b-bbb61ba762f0"
      },
      "execution_count": 28,
      "outputs": [
        {
          "output_type": "execute_result",
          "data": {
            "text/plain": [
              "[True, True, True, False, 'python', 'python', 1]"
            ]
          },
          "metadata": {},
          "execution_count": 28
        }
      ]
    },
    {
      "cell_type": "code",
      "source": [
        "a=[0,0,0]\n",
        "a[0]=not True\n",
        "a[1]=not False\n",
        "a[2]=not True and False or not False\n",
        "a\n",
        "# not은 논릿값을 뒤집습니다.\n",
        "# a[3]처럼 not,and,or이 섞여있을때 not,and,or순으로 판단 합니다. 만약 헷갈린다면 ((not True)and False)or(not False)도 해결책이다."
      ],
      "metadata": {
        "colab": {
          "base_uri": "https://localhost:8080/"
        },
        "id": "mZbBQ6F05jqe",
        "outputId": "32bebc25-dfc1-466e-ab48-2dbf55e2a559"
      },
      "execution_count": 19,
      "outputs": [
        {
          "output_type": "execute_result",
          "data": {
            "text/plain": [
              "[False, True, True]"
            ]
          },
          "metadata": {},
          "execution_count": 19
        }
      ]
    },
    {
      "cell_type": "markdown",
      "source": [
        "a[3]해설\n",
        "not true and False or not False\n",
        "->False and False or True \n",
        "->False or True\n",
        "->True"
      ],
      "metadata": {
        "id": "e9PnsTsz-CZq"
      }
    },
    {
      "cell_type": "code",
      "source": [
        "a=[0,0,0,0,0]\n",
        "a[0]=bool(1)\n",
        "a[1]=bool(0)\n",
        "a[2]=bool(1.5)\n",
        "a[3]=bool('False')\n",
        "a[4]=bool('')\n",
        "a\n",
        "# bool은 값이 존재하면 참 존재하지 않으면(0도 값이 없는 것) 거짓이 된다 따라서 a[1],a[2],a[3]은 참이 되고 나머지는 거짓이 된다."
      ],
      "metadata": {
        "colab": {
          "base_uri": "https://localhost:8080/"
        },
        "id": "v6L6fl5k-Rb6",
        "outputId": "ffaeddb4-a8a1-4574-e514-da55ea621d2f"
      },
      "execution_count": 20,
      "outputs": [
        {
          "output_type": "execute_result",
          "data": {
            "text/plain": [
              "[True, False, True, True, False]"
            ]
          },
          "metadata": {},
          "execution_count": 20
        }
      ]
    },
    {
      "cell_type": "code",
      "source": [
        "a=10\n",
        "b=20\n",
        "(not b) != (20 and a>5)"
      ],
      "metadata": {
        "colab": {
          "base_uri": "https://localhost:8080/"
        },
        "id": "bMsHXUeyCwZv",
        "outputId": "8d1ee3ae-4518-4d72-cea5-d339d5e5803c"
      },
      "execution_count": 39,
      "outputs": [
        {
          "output_type": "execute_result",
          "data": {
            "text/plain": [
              "True"
            ]
          },
          "metadata": {},
          "execution_count": 39
        }
      ]
    },
    {
      "cell_type": "code",
      "source": [
        "a=[0,0,0,0]\n",
        "a[0],a[1],a[2],a[3]=map(int, input('').split(' '))\n",
        "print(a[0]>=90 and a[1]>80 and a[2]>85 and a[3]>=80)"
      ],
      "metadata": {
        "colab": {
          "base_uri": "https://localhost:8080/"
        },
        "id": "QeG7bHopKRBL",
        "outputId": "ed88427f-9c7d-46d0-d8af-83c2130c38b2"
      },
      "execution_count": 46,
      "outputs": [
        {
          "output_type": "stream",
          "name": "stdout",
          "text": [
            "90 80 85 80\n",
            "False\n"
          ]
        }
      ]
    },
    {
      "cell_type": "code",
      "source": [
        "#여려 줄로 된 문자열 사용하기\n",
        "a='''Hello, world!\n",
        "안녕하세요.\n",
        "python입니다.'''\n",
        "print(a)\n",
        "\n",
        "#또는\n",
        "\n",
        "print('Hello\\nPyrthon')\n",
        "\n",
        "#'''나\"\"\"나\\n를 사용함"
      ],
      "metadata": {
        "colab": {
          "base_uri": "https://localhost:8080/"
        },
        "id": "q2J_WlhOKuZf",
        "outputId": "bf66dcbe-4f93-445d-bf5a-2865c2c7d925"
      },
      "execution_count": 9,
      "outputs": [
        {
          "output_type": "stream",
          "name": "stdout",
          "text": [
            "Hello, world!\n",
            "안녕하세요.\n",
            "python입니다.\n",
            "Hello\n",
            "Pyrthon\n"
          ]
        }
      ]
    },
    {
      "cell_type": "code",
      "source": [
        "a=[0,0,0,0,0]\n",
        "\n",
        "a[0]='He said \"pythonis easy\"'\n",
        "a[1]='''\"안녕하세요.\" \n",
        "'파이썬'입니다'''\n",
        "a[2]=\"\"\"\"Hello\" \n",
        "'Python'\"\"\"\n",
        "a[3]=\"\"\"Hello, 'Python'\"\"\"\n",
        "a[4]='Python isn\\'t difficult'\n",
        "print(a[0])\n",
        "print(a[1])\n",
        "print(a[2])\n",
        "print(a[3])\n",
        "print(a[4])\n",
        "#문자열 안에 \"\"를 넝고 싶다면 문자열을''로 묶어준다. 단\" \" \"또는' ' '은 예외로 상관없이 써도 상관없다. \n",
        "\n",
        "#작은 따옴표 안에 작은 따옴표를 넣을려면 작은 따옴표앞에 \\를 붙치면 된다.(a[4]참고)"
      ],
      "metadata": {
        "colab": {
          "base_uri": "https://localhost:8080/"
        },
        "id": "HYpRuAQehduy",
        "outputId": "1d47bf37-02da-4914-cf21-24fe7fe4760f"
      },
      "execution_count": 8,
      "outputs": [
        {
          "output_type": "stream",
          "name": "stdout",
          "text": [
            "He said \"pythonis easy\"\n",
            "\"안녕하세요.\" \n",
            "'파이썬'입니다\n",
            "\"Hello\" \n",
            "'Python'\n",
            "Hello, 'Python'\n",
            "Python isn't difficult\n"
          ]
        }
      ]
    },
    {
      "cell_type": "code",
      "source": [
        "a=['수학', '국어', '영어', '사화', '한국사', '과학']\n",
        "a[0], a[1], a[2], a[3], a[4], a[5]= map(float, input('수학, 국어, 영어, 사회, 한국사,과학의 점수를 차례대로 입력하시오:').split(' '))\n",
        "print((a[0]+a[1]+a[2]+a[3]+a[len(a)-2]+a[5])/6)"
      ],
      "metadata": {
        "colab": {
          "base_uri": "https://localhost:8080/"
        },
        "id": "j--az5cZmy_0",
        "outputId": "d10851fd-0f9e-40d5-dccf-debad898ff1f"
      },
      "execution_count": 1,
      "outputs": [
        {
          "output_type": "stream",
          "name": "stdout",
          "text": [
            "수학, 국어, 영어, 사회, 한국사,과학의 점수를 차례대로 입력하시오:10 20 30 40 50 60\n",
            "35.0\n"
          ]
        }
      ]
    },
    {
      "cell_type": "code",
      "source": [
        "# 빈 리스트 만들기\n",
        "a=[]\n",
        "b=list()\n",
        "print(a,b,sep='\\n')\n",
        "#빈 리스트는 나중에 a.append,a.extend를 통해 확장 가능"
      ],
      "metadata": {
        "colab": {
          "base_uri": "https://localhost:8080/"
        },
        "id": "3PwGdyBT_7gH",
        "outputId": "ac515de8-766b-4dd7-972a-df103998cbfa"
      },
      "execution_count": 3,
      "outputs": [
        {
          "output_type": "stream",
          "name": "stdout",
          "text": [
            "[]\n",
            "[]\n"
          ]
        }
      ]
    },
    {
      "cell_type": "code",
      "source": [
        "a= range(10)\n",
        "b= list(a)\n",
        "c=list(range(5,12))\n",
        "d=list(range(-4, 10, 2)) #list(range(시작, 끝, 증가폭)) 단 리스트에는 끝은 포함 되지 않음\n",
        "e=list(range(10, 0, -1)) #감소도 가능\n",
        "print(a,b,c,d,e,sep='\\n')"
      ],
      "metadata": {
        "colab": {
          "base_uri": "https://localhost:8080/"
        },
        "id": "2pbfxlQbAGjk",
        "outputId": "d564c044-4752-4e1d-b27a-cce2db361923"
      },
      "execution_count": 4,
      "outputs": [
        {
          "output_type": "stream",
          "name": "stdout",
          "text": [
            "range(0, 10)\n",
            "[0, 1, 2, 3, 4, 5, 6, 7, 8, 9]\n",
            "[5, 6, 7, 8, 9, 10, 11]\n",
            "[-4, -2, 0, 2, 4, 6, 8]\n",
            "[10, 9, 8, 7, 6, 5, 4, 3, 2, 1]\n"
          ]
        }
      ]
    },
    {
      "cell_type": "code",
      "source": [
        "#튜플\n",
        "a=[0,0,0]\n",
        "a[0]=(1,2,3,4,5)\n",
        "a[1]=6,7,8,9,10\n",
        "a[2]='a',11,12.1,True\n",
        "#print(a,b,c,sep='\\n')\n",
        "a"
      ],
      "metadata": {
        "colab": {
          "base_uri": "https://localhost:8080/"
        },
        "id": "5n4aOHGcEc8f",
        "outputId": "e5552c07-012b-4c98-b96d-c700ec6f17be"
      },
      "execution_count": 13,
      "outputs": [
        {
          "output_type": "execute_result",
          "data": {
            "text/plain": [
              "[(1, 2, 3, 4, 5), (6, 7, 8, 9, 10), ('a', 11, 12.1, True)]"
            ]
          },
          "metadata": {},
          "execution_count": 13
        }
      ]
    },
    {
      "cell_type": "code",
      "source": [
        "#요소가 한개 들어있는 튜플\n",
        "a=(38) #결과를 보면 38로 나오는데 이는 튜플이 아닌 그저 숫자이기에 주제에 부합하지 않다\n",
        "b=(38,)\n",
        "c=38,\n",
        "print(a,b,c,sep='\\n')\n",
        "# 실무에 쓸곳이 있다 한다"
      ],
      "metadata": {
        "colab": {
          "base_uri": "https://localhost:8080/"
        },
        "id": "5UqP6UT_GNIR",
        "outputId": "baadd69c-697a-4034-d07c-f90beb84f939"
      },
      "execution_count": 16,
      "outputs": [
        {
          "output_type": "stream",
          "name": "stdout",
          "text": [
            "38\n",
            "(38,)\n",
            "(38,)\n"
          ]
        }
      ]
    },
    {
      "cell_type": "code",
      "source": [
        "#range 활용은 list와 비슷하며 대신 tuple로 쓴다."
      ],
      "metadata": {
        "id": "SxaTDWhbHQuf"
      },
      "execution_count": null,
      "outputs": []
    },
    {
      "cell_type": "code",
      "source": [
        "#리를 튜로 튜를 리로\n",
        "a = [1, 2, 3]\n",
        "b = (4, 5, 6)\n",
        "print(tuple(a),list(b),sep='\\n')"
      ],
      "metadata": {
        "colab": {
          "base_uri": "https://localhost:8080/"
        },
        "id": "FV44lJeSH52t",
        "outputId": "e174b9a8-a9e7-4bd1-e941-0c9070544cb0"
      },
      "execution_count": 17,
      "outputs": [
        {
          "output_type": "stream",
          "name": "stdout",
          "text": [
            "(1, 2, 3)\n",
            "[4, 5, 6]\n"
          ]
        }
      ]
    },
    {
      "cell_type": "code",
      "source": [
        "#문자열\n",
        "a=list('Hello')\n",
        "b=tuple('Hello')\n",
        "print(a,b,sep='\\n')"
      ],
      "metadata": {
        "colab": {
          "base_uri": "https://localhost:8080/"
        },
        "id": "1J9-LBb6IMsz",
        "outputId": "a3abfe44-56dd-4e83-c61a-d624634f9635"
      },
      "execution_count": 18,
      "outputs": [
        {
          "output_type": "stream",
          "name": "stdout",
          "text": [
            "['H', 'e', 'l', 'l', 'o']\n",
            "('H', 'e', 'l', 'l', 'o')\n"
          ]
        }
      ]
    },
    {
      "cell_type": "code",
      "source": [
        "#변수\n",
        "a, b, c = [1, 2, 3]\n",
        "print(a, b, c)\n",
        "\n",
        "d, e, f = (4, 5, 6)\n",
        "print(d, e, f)\n"
      ],
      "metadata": {
        "colab": {
          "base_uri": "https://localhost:8080/"
        },
        "id": "8zLdilCiIndU",
        "outputId": "1e6242d9-b1da-496e-8b2d-a81fbbfa8638"
      },
      "execution_count": 19,
      "outputs": [
        {
          "output_type": "stream",
          "name": "stdout",
          "text": [
            "1 2 3\n",
            "4 5 6\n"
          ]
        }
      ]
    },
    {
      "cell_type": "code",
      "source": [
        "b=input()\n",
        "b=int(b)\n",
        "a=tuple(range(-10, 9, b))\n",
        "print(a)"
      ],
      "metadata": {
        "colab": {
          "base_uri": "https://localhost:8080/"
        },
        "id": "O9pc2ZP2I8vx",
        "outputId": "12fcb1e7-05b2-4e08-cd92-da864fe8ef35"
      },
      "execution_count": 30,
      "outputs": [
        {
          "output_type": "stream",
          "name": "stdout",
          "text": [
            "2\n",
            "(-10, -8, -6, -4, -2, 0, 2, 4, 6, 8)\n"
          ]
        }
      ]
    }
  ]
}