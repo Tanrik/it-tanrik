{
  "nbformat": 4,
  "nbformat_minor": 0,
  "metadata": {
    "colab": {
      "provenance": []
    },
    "kernelspec": {
      "name": "python3",
      "display_name": "Python 3"
    },
    "language_info": {
      "name": "python"
    }
  },
  "cells": [
    {
      "cell_type": "markdown",
      "source": [
        "# 훈련 데이터와 시험 데이터"
      ],
      "metadata": {
        "id": "Bj5zMgEoP9dq"
      }
    },
    {
      "cell_type": "markdown",
      "source": [
        "기계학습을 할때 두 데이터로 나눠 학습과 실험을 수행하는 것이 일반적이다. 그 이유는 우리가 원하는 것은 범용적으로 사용할 수 있는 모델이기 때문이다."
      ],
      "metadata": {
        "id": "jb0JtuhGQCl2"
      }
    },
    {
      "cell_type": "markdown",
      "source": [
        "# 손실 함수"
      ],
      "metadata": {
        "id": "-9cnho23QmnH"
      }
    },
    {
      "cell_type": "markdown",
      "source": [
        "이는 최적의 매개변수 값을 탐색한다. 일반적으로는 오차제곱합과 교차 엔트로피 오차를 사용한다."
      ],
      "metadata": {
        "id": "4jt_bwqJQpTn"
      }
    },
    {
      "cell_type": "markdown",
      "source": [
        "### 오차제곱합\n",
        "\n",
        "\n"
      ],
      "metadata": {
        "id": "wlMJz9FQSTOB"
      }
    },
    {
      "cell_type": "code",
      "execution_count": 2,
      "metadata": {
        "colab": {
          "base_uri": "https://localhost:8080/"
        },
        "id": "WxbRA2SFPleJ",
        "outputId": "2f620407-93f9-42a7-991b-4986711b974a"
      },
      "outputs": [
        {
          "output_type": "execute_result",
          "data": {
            "text/plain": [
              "0.09750000000000003"
            ]
          },
          "metadata": {},
          "execution_count": 2
        }
      ],
      "source": [
        "import numpy as np\n",
        "def sum_square_error(y, t):\n",
        "    return 0.5 * np.sum((y-t)**2)\n",
        "\n",
        "t = [0,0,1,0,0,0,0,0,0,0] # 정답이 2\n",
        "\n",
        "y = [0.1, 0.05, 0.6, 0.0, 0.05, 0.1, 0.0, 0.1, 0.0, 0.0] # 정답이 2일 확률이 높다고 추정(0.6)\n",
        "sum_square_error(np.array(y), np.array(t))"
      ]
    },
    {
      "cell_type": "markdown",
      "source": [
        "위처럼 오차제곱합은 정답에 오차의 범위값을 나타낸다."
      ],
      "metadata": {
        "id": "4bwrM66_THjj"
      }
    },
    {
      "cell_type": "markdown",
      "source": [
        "### 교차 엔트로피 오차"
      ],
      "metadata": {
        "id": "sRT9oRn5TeSV"
      }
    },
    {
      "cell_type": "code",
      "source": [
        "def cross_entropy_error(y, t):\n",
        "    delta = 1e-7\n",
        "    return -np.sum(t*np.log(y +delta))\n",
        "\n",
        "t = [0,0,1,0,0,0,0,0,0,0] \n",
        "\n",
        "y = [0.1, 0.05, 0.6, 0.0, 0.05, 0.1, 0.0, 0.1, 0.0, 0.0] \n",
        "cross_entropy_error(np.array(y), np.array(t))"
      ],
      "metadata": {
        "colab": {
          "base_uri": "https://localhost:8080/"
        },
        "id": "UDrG5mmOSxNN",
        "outputId": "9de1100a-6873-47e2-ba5a-e6401c9fd152"
      },
      "execution_count": 3,
      "outputs": [
        {
          "output_type": "execute_result",
          "data": {
            "text/plain": [
              "0.510825457099338"
            ]
          },
          "metadata": {},
          "execution_count": 3
        }
      ]
    },
    {
      "cell_type": "markdown",
      "source": [
        "위처럼 교차 엔트로피 오차는 정답과 가까울수록 0에 수렴하게 된다."
      ],
      "metadata": {
        "id": "UvWhXsHDUjhh"
      }
    },
    {
      "cell_type": "code",
      "source": [],
      "metadata": {
        "id": "34_MsF80Uh3f"
      },
      "execution_count": null,
      "outputs": []
    }
  ]
}