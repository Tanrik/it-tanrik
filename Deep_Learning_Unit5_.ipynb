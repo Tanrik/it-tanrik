{
  "nbformat": 4,
  "nbformat_minor": 0,
  "metadata": {
    "colab": {
      "provenance": []
    },
    "kernelspec": {
      "name": "python3",
      "display_name": "Python 3"
    },
    "language_info": {
      "name": "python"
    }
  },
  "cells": [
    {
      "cell_type": "markdown",
      "source": [
        "# 오차역전파법"
      ],
      "metadata": {
        "id": "4gerE_NkK5Wn"
      }
    },
    {
      "cell_type": "markdown",
      "source": [
        "수치미분보다 가중치 매개변수의 기울기를 호율적으로 계산이 가능하다."
      ],
      "metadata": {
        "id": "zTbXmoIGMiZL"
      }
    },
    {
      "cell_type": "markdown",
      "source": [
        "## 계산 그래프"
      ],
      "metadata": {
        "id": "3g2TjZ1_0OJ-"
      }
    },
    {
      "cell_type": "markdown",
      "source": [
        "계산 과정을 그래프로 나타낸 것입니다. 여기에서 그래프는 우리가 잘아는 그래프 자료구조로, 복수의 노드와 에자로 표현합니다.(노드 사이으 직선을 '에지'라고합니다.)"
      ],
      "metadata": {
        "id": "c8sC_fFp1LQD"
      }
    },
    {
      "cell_type": "markdown",
      "source": [
        "## 연쇄법칙"
      ],
      "metadata": {
        "id": "J6Y3kV8U1oUI"
      }
    },
    {
      "cell_type": "markdown",
      "source": [
        "계산 그래프의 순전파는 계산 결과를 왼쪽에서 오른쪽으로 전달했지만 역전파는 '국소적인 미분'을 순방향과는 반대인 오른쪽에서 왼쪽으로 전달합니다. 또한 이 '극소적 미분'을 전달하는 원리는 연쇄법칙에 따른 것입니다."
      ],
      "metadata": {
        "id": "GVChB0Fy1uoi"
      }
    },
    {
      "cell_type": "markdown",
      "source": [
        "## 곱셉 계층"
      ],
      "metadata": {
        "id": "8nMdV7Ub8XYl"
      }
    },
    {
      "cell_type": "markdown",
      "source": [
        "모든 계층은 forward()와 backward()라는 공통의 메서드(인터페이스)를 갖도록 구현하여 forward()는 순전파, backward()은 역전파로 처리합니다."
      ],
      "metadata": {
        "id": "eL_i8klw8ZuU"
      }
    },
    {
      "cell_type": "markdown",
      "source": [
        "구현"
      ],
      "metadata": {
        "id": "Cuz5jLKy_J-t"
      }
    },
    {
      "cell_type": "code",
      "execution_count": 3,
      "metadata": {
        "id": "x22GVaB1EYV3"
      },
      "outputs": [],
      "source": [
        "class MuILayer:\n",
        "    def __init__(self):\n",
        "        self.x = None\n",
        "        self.y = None\n",
        "\n",
        "    def forward(self, x, y):\n",
        "        self.x = x\n",
        "        self.y = y\n",
        "        out = x*y\n",
        "\n",
        "        return out\n",
        "\n",
        "    def backward(self, dout):\n",
        "        dx = dout * self.y\n",
        "        dy = dout * self.x\n",
        "\n",
        "        return dx, dy"
      ]
    },
    {
      "cell_type": "markdown",
      "source": [
        "순전파,역전파 구현"
      ],
      "metadata": {
        "id": "yZmvLV7QK4p7"
      }
    },
    {
      "cell_type": "code",
      "source": [
        "class MulLayer():\n",
        "    def __init__(self):\n",
        "        self.x = None\n",
        "        self.y = None\n",
        "\n",
        "    def forward(self, x, y):\n",
        "        self.x = x\n",
        "        self.y = y\n",
        "        out = x*y\n",
        "\n",
        "        return out\n",
        "\n",
        "    def backward(self, dout):\n",
        "        dx = dout * self.y\n",
        "        dy = dout * self.x\n",
        "\n",
        "        return dx, dy\n",
        "\n",
        "apple = 100\n",
        "apple_num = 2\n",
        "tax = 1.1\n",
        "\n",
        "mul_apple_layer = MulLayer()\n",
        "mul_tax_layer = MulLayer()\n",
        "\n",
        "# 순전파\n",
        "apple_price = mul_apple_layer.forward(apple, apple_num)\n",
        "price = mul_tax_layer.forward(apple_price, tax)\n",
        "\n",
        "# 역전파파\n",
        "dprice = 1\n",
        "dapple_price, dtax = mul_tax_layer.backward(dprice)\n",
        "dapple, dapple_num = mul_apple_layer.backward(dapple_price)\n",
        "\n",
        "print(\"price:\", int(price))\n",
        "print(\"dApple:\", dapple)\n",
        "print(\"dApple_num:\", int(dapple_num))\n",
        "print(\"dTax:\", dtax)"
      ],
      "metadata": {
        "colab": {
          "base_uri": "https://localhost:8080/"
        },
        "id": "4Mh3gUYE_N9P",
        "outputId": "0d578450-dc69-47eb-92e1-3b79da43438d"
      },
      "execution_count": 9,
      "outputs": [
        {
          "output_type": "stream",
          "name": "stdout",
          "text": [
            "price: 220\n",
            "dApple: 2.2\n",
            "dApple_num: 110\n",
            "dTax: 200\n"
          ]
        }
      ]
    },
    {
      "cell_type": "markdown",
      "source": [
        "## 덧셈 계층\n"
      ],
      "metadata": {
        "id": "0Ptm6AShAiXN"
      }
    },
    {
      "cell_type": "code",
      "source": [
        "class AddLayer:\n",
        "    def __init__(self):\n",
        "        pass\n",
        "\n",
        "    def forward(self, x, y):\n",
        "        out = x + y\n",
        "        return out\n",
        "\n",
        "    def backward(self, dout):\n",
        "        dx = dout * 1\n",
        "        dy = dout * 1\n",
        "        return dx, dy\n",
        "\n",
        "apple = 100\n",
        "apple_num = 2\n",
        "orange = 150\n",
        "orange_num = 3\n",
        "tax = 1.1\n",
        "\n",
        "# layer\n",
        "mul_apple_layer = MulLayer()\n",
        "mul_orange_layer = MulLayer()\n",
        "add_apple_orange_layer = AddLayer()\n",
        "mul_tax_layer = MulLayer()\n",
        "\n",
        "# forward\n",
        "apple_price = mul_apple_layer.forward(apple, apple_num)  # (1)\n",
        "orange_price = mul_orange_layer.forward(orange, orange_num)  # (2)\n",
        "all_price = add_apple_orange_layer.forward(apple_price, orange_price)  # (3)\n",
        "price = mul_tax_layer.forward(all_price, tax)  # (4)\n",
        "\n",
        "# backward\n",
        "dprice = 1\n",
        "dall_price, dtax = mul_tax_layer.backward(dprice)  # (4)\n",
        "dapple_price, dorange_price = add_apple_orange_layer.backward(dall_price)  # (3)\n",
        "dorange, dorange_num = mul_orange_layer.backward(dorange_price)  # (2)\n",
        "dapple, dapple_num = mul_apple_layer.backward(dapple_price)  # (1)\n",
        "\n",
        "print(\"price:\", int(price))\n",
        "print(\"dApple:\", dapple)\n",
        "print(\"dApple_num:\", int(dapple_num))\n",
        "print(\"dOrange:\", dorange)\n",
        "print(\"dOrange_num:\", int(dorange_num))\n",
        "print(\"dTax:\", dtax)"
      ],
      "metadata": {
        "colab": {
          "base_uri": "https://localhost:8080/"
        },
        "id": "sPgYnwGi_ulI",
        "outputId": "0f53c44f-3ef0-4d21-8120-0f9863ca5753"
      },
      "execution_count": 10,
      "outputs": [
        {
          "output_type": "stream",
          "name": "stdout",
          "text": [
            "price: 715\n",
            "dApple: 2.2\n",
            "dApple_num: 110\n",
            "dOrange: 3.3000000000000003\n",
            "dOrange_num: 165\n",
            "dTax: 650\n"
          ]
        }
      ]
    }
  ]
}